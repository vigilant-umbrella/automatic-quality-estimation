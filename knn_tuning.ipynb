{
  "cells": [
    {
      "cell_type": "markdown",
      "metadata": {
        "id": "view-in-github",
        "colab_type": "text"
      },
      "source": [
        "<a href=\"https://colab.research.google.com/github/vigilant-umbrella/automatic-quality-estimation/blob/main/knn_tuning.ipynb\" target=\"_parent\"><img src=\"https://colab.research.google.com/assets/colab-badge.svg\" alt=\"Open In Colab\"/></a>"
      ]
    },
    {
      "cell_type": "code",
      "execution_count": null,
      "metadata": {
        "id": "cFbk4OwD35cT"
      },
      "outputs": [],
      "source": [
        "from google.colab import drive\n",
        "drive.mount('/content/drive')"
      ]
    },
    {
      "cell_type": "code",
      "execution_count": null,
      "metadata": {
        "id": "VuwQ-Mn65UV9"
      },
      "outputs": [],
      "source": [
        "import os\n",
        "\n",
        "import pandas as pd\n",
        "\n",
        "from sklearn.model_selection import train_test_split\n",
        "from sklearn.impute import SimpleImputer\n",
        "from sklearn.preprocessing import MinMaxScaler\n",
        "from sklearn.neighbors import KNeighborsRegressor\n",
        "from sklearn.compose import TransformedTargetRegressor\n",
        "from sklearn.pipeline import Pipeline\n",
        "from sklearn.model_selection import KFold\n",
        "from sklearn.model_selection import GridSearchCV"
      ]
    },
    {
      "cell_type": "code",
      "execution_count": null,
      "metadata": {
        "id": "65sm94oH5IK4"
      },
      "outputs": [],
      "source": [
        "os.chdir('./drive/My Drive/wikiHow')"
      ]
    },
    {
      "cell_type": "markdown",
      "metadata": {
        "id": "TdKKeBvtKsS3"
      },
      "source": [
        "# Loading Data"
      ]
    },
    {
      "cell_type": "code",
      "execution_count": null,
      "metadata": {
        "id": "NmxLF-TCcFfh",
        "colab": {
          "base_uri": "https://localhost:8080/",
          "height": 256
        },
        "outputId": "0c3a979d-698c-4395-c6ca-9407d8f4149b"
      },
      "outputs": [
        {
          "output_type": "execute_result",
          "data": {
            "text/plain": [
              "   character_count  word_count  method_count  mean_method_size  \\\n",
              "0             7107        1508             2       3357.500000   \n",
              "1             5180        1176             2       2419.500000   \n",
              "2             3822         902             3       1114.333333   \n",
              "3            11614        2429             3       3604.333333   \n",
              "4             9633        2004             4       2310.500000   \n",
              "\n",
              "   mean_paragraph_size  size_largest_method  size_shortest_method  \\\n",
              "0           379.823529                 4321                  2394   \n",
              "1           317.000000                 3171                  1668   \n",
              "2           263.333333                 1521                   881   \n",
              "3           393.111111                 4148                  2832   \n",
              "4           535.411765                 2753                  1922   \n",
              "\n",
              "   std_method_size  step_count  mean_steps_per_method  ...   Kincaid  \\\n",
              "0       963.500000          16               8.000000  ...  7.523760   \n",
              "1       751.500000          14               7.000000  ...  4.951055   \n",
              "2       288.598144          11               3.666667  ...  6.020412   \n",
              "3       561.058721          26               8.666667  ...  7.798307   \n",
              "4       329.196370          16               4.000000  ...  8.716429   \n",
              "\n",
              "        ARI  Coleman_Liau  FleschReadingEase  GunningFogIndex        LIX  \\\n",
              "0  8.159750      9.908877          67.453457        10.820887  36.866542   \n",
              "1  5.505902      7.708411          81.614246         8.897157  33.807519   \n",
              "2  6.727450      7.309495          81.109399         9.797251  31.810200   \n",
              "3  8.728719     10.376311          66.362137        11.577962  38.743177   \n",
              "4  9.423549     10.661749          61.827048        13.316999  42.773535   \n",
              "\n",
              "   SMOGIndex       RIX  DaleChallIndex  percent_helpful  \n",
              "0  10.376433  3.264706       10.086871               78  \n",
              "1   9.052403  2.652632        9.111023               99  \n",
              "2   9.310165  2.527273        8.038576               88  \n",
              "3  10.914639  3.584906        9.965255               82  \n",
              "4  12.116729  4.327869        9.123631              100  \n",
              "\n",
              "[5 rows x 45 columns]"
            ],
            "text/html": [
              "<div>\n",
              "<style scoped>\n",
              "    .dataframe tbody tr th:only-of-type {\n",
              "        vertical-align: middle;\n",
              "    }\n",
              "\n",
              "    .dataframe tbody tr th {\n",
              "        vertical-align: top;\n",
              "    }\n",
              "\n",
              "    .dataframe thead th {\n",
              "        text-align: right;\n",
              "    }\n",
              "</style>\n",
              "<table border=\"1\" class=\"dataframe\">\n",
              "  <thead>\n",
              "    <tr style=\"text-align: right;\">\n",
              "      <th></th>\n",
              "      <th>character_count</th>\n",
              "      <th>word_count</th>\n",
              "      <th>method_count</th>\n",
              "      <th>mean_method_size</th>\n",
              "      <th>mean_paragraph_size</th>\n",
              "      <th>size_largest_method</th>\n",
              "      <th>size_shortest_method</th>\n",
              "      <th>std_method_size</th>\n",
              "      <th>step_count</th>\n",
              "      <th>mean_steps_per_method</th>\n",
              "      <th>...</th>\n",
              "      <th>Kincaid</th>\n",
              "      <th>ARI</th>\n",
              "      <th>Coleman_Liau</th>\n",
              "      <th>FleschReadingEase</th>\n",
              "      <th>GunningFogIndex</th>\n",
              "      <th>LIX</th>\n",
              "      <th>SMOGIndex</th>\n",
              "      <th>RIX</th>\n",
              "      <th>DaleChallIndex</th>\n",
              "      <th>percent_helpful</th>\n",
              "    </tr>\n",
              "  </thead>\n",
              "  <tbody>\n",
              "    <tr>\n",
              "      <th>0</th>\n",
              "      <td>7107</td>\n",
              "      <td>1508</td>\n",
              "      <td>2</td>\n",
              "      <td>3357.500000</td>\n",
              "      <td>379.823529</td>\n",
              "      <td>4321</td>\n",
              "      <td>2394</td>\n",
              "      <td>963.500000</td>\n",
              "      <td>16</td>\n",
              "      <td>8.000000</td>\n",
              "      <td>...</td>\n",
              "      <td>7.523760</td>\n",
              "      <td>8.159750</td>\n",
              "      <td>9.908877</td>\n",
              "      <td>67.453457</td>\n",
              "      <td>10.820887</td>\n",
              "      <td>36.866542</td>\n",
              "      <td>10.376433</td>\n",
              "      <td>3.264706</td>\n",
              "      <td>10.086871</td>\n",
              "      <td>78</td>\n",
              "    </tr>\n",
              "    <tr>\n",
              "      <th>1</th>\n",
              "      <td>5180</td>\n",
              "      <td>1176</td>\n",
              "      <td>2</td>\n",
              "      <td>2419.500000</td>\n",
              "      <td>317.000000</td>\n",
              "      <td>3171</td>\n",
              "      <td>1668</td>\n",
              "      <td>751.500000</td>\n",
              "      <td>14</td>\n",
              "      <td>7.000000</td>\n",
              "      <td>...</td>\n",
              "      <td>4.951055</td>\n",
              "      <td>5.505902</td>\n",
              "      <td>7.708411</td>\n",
              "      <td>81.614246</td>\n",
              "      <td>8.897157</td>\n",
              "      <td>33.807519</td>\n",
              "      <td>9.052403</td>\n",
              "      <td>2.652632</td>\n",
              "      <td>9.111023</td>\n",
              "      <td>99</td>\n",
              "    </tr>\n",
              "    <tr>\n",
              "      <th>2</th>\n",
              "      <td>3822</td>\n",
              "      <td>902</td>\n",
              "      <td>3</td>\n",
              "      <td>1114.333333</td>\n",
              "      <td>263.333333</td>\n",
              "      <td>1521</td>\n",
              "      <td>881</td>\n",
              "      <td>288.598144</td>\n",
              "      <td>11</td>\n",
              "      <td>3.666667</td>\n",
              "      <td>...</td>\n",
              "      <td>6.020412</td>\n",
              "      <td>6.727450</td>\n",
              "      <td>7.309495</td>\n",
              "      <td>81.109399</td>\n",
              "      <td>9.797251</td>\n",
              "      <td>31.810200</td>\n",
              "      <td>9.310165</td>\n",
              "      <td>2.527273</td>\n",
              "      <td>8.038576</td>\n",
              "      <td>88</td>\n",
              "    </tr>\n",
              "    <tr>\n",
              "      <th>3</th>\n",
              "      <td>11614</td>\n",
              "      <td>2429</td>\n",
              "      <td>3</td>\n",
              "      <td>3604.333333</td>\n",
              "      <td>393.111111</td>\n",
              "      <td>4148</td>\n",
              "      <td>2832</td>\n",
              "      <td>561.058721</td>\n",
              "      <td>26</td>\n",
              "      <td>8.666667</td>\n",
              "      <td>...</td>\n",
              "      <td>7.798307</td>\n",
              "      <td>8.728719</td>\n",
              "      <td>10.376311</td>\n",
              "      <td>66.362137</td>\n",
              "      <td>11.577962</td>\n",
              "      <td>38.743177</td>\n",
              "      <td>10.914639</td>\n",
              "      <td>3.584906</td>\n",
              "      <td>9.965255</td>\n",
              "      <td>82</td>\n",
              "    </tr>\n",
              "    <tr>\n",
              "      <th>4</th>\n",
              "      <td>9633</td>\n",
              "      <td>2004</td>\n",
              "      <td>4</td>\n",
              "      <td>2310.500000</td>\n",
              "      <td>535.411765</td>\n",
              "      <td>2753</td>\n",
              "      <td>1922</td>\n",
              "      <td>329.196370</td>\n",
              "      <td>16</td>\n",
              "      <td>4.000000</td>\n",
              "      <td>...</td>\n",
              "      <td>8.716429</td>\n",
              "      <td>9.423549</td>\n",
              "      <td>10.661749</td>\n",
              "      <td>61.827048</td>\n",
              "      <td>13.316999</td>\n",
              "      <td>42.773535</td>\n",
              "      <td>12.116729</td>\n",
              "      <td>4.327869</td>\n",
              "      <td>9.123631</td>\n",
              "      <td>100</td>\n",
              "    </tr>\n",
              "  </tbody>\n",
              "</table>\n",
              "<p>5 rows × 45 columns</p>\n",
              "</div>"
            ]
          },
          "metadata": {},
          "execution_count": 2
        }
      ],
      "source": [
        "df = pd.read_csv('wikihow.csv')\n",
        "df.head()"
      ]
    },
    {
      "cell_type": "code",
      "execution_count": null,
      "metadata": {
        "id": "47tBsAG89pC7",
        "colab": {
          "base_uri": "https://localhost:8080/"
        },
        "outputId": "83f843b7-7832-4590-8770-1201186873e6"
      },
      "outputs": [
        {
          "output_type": "execute_result",
          "data": {
            "text/plain": [
              "(19917, 45)"
            ]
          },
          "metadata": {},
          "execution_count": 3
        }
      ],
      "source": [
        "df.shape"
      ]
    },
    {
      "cell_type": "code",
      "execution_count": null,
      "metadata": {
        "id": "LdyvsgcblUNJ"
      },
      "outputs": [],
      "source": [
        "X = df.drop('percent_helpful', axis=1)\n",
        "y  = df['percent_helpful']"
      ]
    },
    {
      "cell_type": "code",
      "execution_count": null,
      "metadata": {
        "id": "8oHhvHtMQ-hy"
      },
      "outputs": [],
      "source": [
        "X_full_train, X_test, y_full_train, y_test = train_test_split(X, y, test_size=0.2, random_state=42)"
      ]
    },
    {
      "cell_type": "code",
      "execution_count": null,
      "metadata": {
        "id": "PDGrB_-DsVP1"
      },
      "outputs": [],
      "source": [
        "def create_pipeline():\n",
        "    imputer = SimpleImputer(strategy='median')\n",
        "\n",
        "    scaler = MinMaxScaler()\n",
        "\n",
        "    model = KNeighborsRegressor(n_jobs=-1)\n",
        "\n",
        "    model = TransformedTargetRegressor(\n",
        "        regressor=model,\n",
        "        transformer=MinMaxScaler()\n",
        "    )\n",
        "\n",
        "    pipeline = Pipeline(\n",
        "        steps=[\n",
        "            ('imputer', imputer),\n",
        "            ('scaling', scaler),\n",
        "            ('model', model)\n",
        "        ]\n",
        "    )\n",
        "\n",
        "    return pipeline"
      ]
    },
    {
      "cell_type": "code",
      "execution_count": null,
      "metadata": {
        "id": "CVEV_IjWNLzV"
      },
      "outputs": [],
      "source": [
        "search_space = {\n",
        "    'model__regressor__n_neighbors': [3, 5, 7],\n",
        "    'model__regressor__weights': ['uniform', 'distance'],\n",
        "    'model__regressor__p': [1 , 2, 3, 4, 5]\n",
        "}"
      ]
    },
    {
      "cell_type": "code",
      "execution_count": null,
      "metadata": {
        "id": "4oCIYE0LND1B",
        "colab": {
          "base_uri": "https://localhost:8080/"
        },
        "outputId": "ae702ee0-1455-4f0c-b104-674848ae1c15"
      },
      "outputs": [
        {
          "output_type": "stream",
          "name": "stdout",
          "text": [
            "Fitting 10 folds for each of 30 candidates, totalling 300 fits\n",
            "[CV 3/10] END model__regressor__n_neighbors=3, model__regressor__p=1, model__regressor__weights=uniform;, score=-6.324 total time=   9.0s\n",
            "[CV 3/10] END model__regressor__n_neighbors=3, model__regressor__p=1, model__regressor__weights=distance;, score=-6.331 total time=  10.7s\n",
            "[CV 2/10] END model__regressor__n_neighbors=3, model__regressor__p=2, model__regressor__weights=uniform;, score=-6.176 total time=   6.7s\n"
          ]
        },
        {
          "output_type": "stream",
          "name": "stderr",
          "text": [
            "/home/aniketsharma00411/anaconda3/envs/python3.8/lib/python3.8/site-packages/joblib/externals/loky/process_executor.py:702: UserWarning: A worker stopped while some jobs were given to the executor. This can be caused by a too short worker timeout or by a memory leak.\n",
            "  warnings.warn(\n"
          ]
        },
        {
          "output_type": "stream",
          "name": "stdout",
          "text": [
            "[CV 2/10] END model__regressor__n_neighbors=3, model__regressor__p=1, model__regressor__weights=uniform;, score=-6.185 total time=   9.7s\n",
            "[CV 5/10] END model__regressor__n_neighbors=3, model__regressor__p=1, model__regressor__weights=distance;, score=-6.292 total time=  11.0s\n",
            "[CV 4/10] END model__regressor__n_neighbors=3, model__regressor__p=2, model__regressor__weights=uniform;, score=-6.368 total time=   7.3s\n",
            "[CV 6/10] END model__regressor__n_neighbors=3, model__regressor__p=1, model__regressor__weights=uniform;, score=-6.374 total time=   9.0s\n",
            "[CV 9/10] END model__regressor__n_neighbors=3, model__regressor__p=1, model__regressor__weights=uniform;, score=-6.433 total time=  10.1s\n",
            "[CV 7/10] END model__regressor__n_neighbors=3, model__regressor__p=1, model__regressor__weights=distance;, score=-6.294 total time=   8.8s\n",
            "[CV 7/10] END model__regressor__n_neighbors=3, model__regressor__p=2, model__regressor__weights=uniform;, score=-6.394 total time=   5.8s\n",
            "[CV 7/10] END model__regressor__n_neighbors=3, model__regressor__p=1, model__regressor__weights=uniform;, score=-6.288 total time=   9.0s\n",
            "[CV 6/10] END model__regressor__n_neighbors=3, model__regressor__p=1, model__regressor__weights=distance;, score=-6.373 total time=   9.7s\n",
            "[CV 9/10] END model__regressor__n_neighbors=3, model__regressor__p=1, model__regressor__weights=distance;, score=-6.433 total time=   8.4s\n",
            "[CV 8/10] END model__regressor__n_neighbors=3, model__regressor__p=2, model__regressor__weights=uniform;, score=-6.264 total time=   5.0s\n",
            "[CV 5/10] END model__regressor__n_neighbors=3, model__regressor__p=2, model__regressor__weights=distance;, score=-6.442 total time=   5.4s\n",
            "[CV 8/10] END model__regressor__n_neighbors=3, model__regressor__p=1, model__regressor__weights=uniform;, score=-6.341 total time=   9.3s\n",
            "[CV 4/10] END model__regressor__n_neighbors=3, model__regressor__p=1, model__regressor__weights=distance;, score=-6.321 total time=   9.6s\n",
            "[CV 8/10] END model__regressor__n_neighbors=3, model__regressor__p=1, model__regressor__weights=distance;, score=-6.342 total time=   9.7s\n",
            "[CV 10/10] END model__regressor__n_neighbors=3, model__regressor__p=2, model__regressor__weights=uniform;, score=-6.257 total time=   4.7s\n",
            "[CV 6/10] END model__regressor__n_neighbors=3, model__regressor__p=2, model__regressor__weights=distance;, score=-6.302 total time=   5.3s\n",
            "[CV 1/10] END model__regressor__n_neighbors=3, model__regressor__p=3, model__regressor__weights=uniform;, score=-6.354 total time= 1.0min\n",
            "[CV 9/10] END model__regressor__n_neighbors=3, model__regressor__p=3, model__regressor__weights=uniform;, score=-6.529 total time= 1.0min\n",
            "[CV 4/10] END model__regressor__n_neighbors=3, model__regressor__p=1, model__regressor__weights=uniform;, score=-6.314 total time=   9.3s\n",
            "[CV 2/10] END model__regressor__n_neighbors=3, model__regressor__p=1, model__regressor__weights=distance;, score=-6.180 total time=  10.8s\n",
            "[CV 1/10] END model__regressor__n_neighbors=3, model__regressor__p=2, model__regressor__weights=uniform;, score=-6.359 total time=   6.8s\n",
            "[CV 5/10] END model__regressor__n_neighbors=3, model__regressor__p=2, model__regressor__weights=uniform;, score=-6.447 total time=   5.5s\n",
            "[CV 3/10] END model__regressor__n_neighbors=3, model__regressor__p=2, model__regressor__weights=distance;, score=-6.358 total time=   4.4s\n",
            "[CV 8/10] END model__regressor__n_neighbors=3, model__regressor__p=2, model__regressor__weights=distance;, score=-6.275 total time=   5.8s\n",
            "[CV 6/10] END model__regressor__n_neighbors=3, model__regressor__p=3, model__regressor__weights=uniform;, score=-6.306 total time= 1.0min\n",
            "[CV 3/10] END model__regressor__n_neighbors=3, model__regressor__p=3, model__regressor__weights=distance;, score=-6.369 total time= 1.1min\n",
            "[CV 5/10] END model__regressor__n_neighbors=3, model__regressor__p=1, model__regressor__weights=uniform;, score=-6.290 total time=   9.3s\n",
            "[CV 1/10] END model__regressor__n_neighbors=3, model__regressor__p=1, model__regressor__weights=distance;, score=-6.429 total time=  11.2s\n",
            "[CV 3/10] END model__regressor__n_neighbors=3, model__regressor__p=2, model__regressor__weights=uniform;, score=-6.353 total time=   7.0s\n",
            "[CV 6/10] END model__regressor__n_neighbors=3, model__regressor__p=2, model__regressor__weights=uniform;, score=-6.308 total time=   5.3s\n",
            "[CV 4/10] END model__regressor__n_neighbors=3, model__regressor__p=2, model__regressor__weights=distance;, score=-6.368 total time=   5.1s\n",
            "[CV 10/10] END model__regressor__n_neighbors=3, model__regressor__p=2, model__regressor__weights=distance;, score=-6.263 total time=   5.5s\n",
            "[CV 7/10] END model__regressor__n_neighbors=3, model__regressor__p=3, model__regressor__weights=uniform;, score=-6.314 total time= 1.0min\n",
            "[CV 4/10] END model__regressor__n_neighbors=3, model__regressor__p=3, model__regressor__weights=distance;, score=-6.331 total time= 1.0min\n",
            "[CV 1/10] END model__regressor__n_neighbors=3, model__regressor__p=4, model__regressor__weights=uniform;, score=-6.296 total time= 1.1min\n",
            "[CV 1/10] END model__regressor__n_neighbors=3, model__regressor__p=2, model__regressor__weights=distance;, score=-6.367 total time=   6.2s\n",
            "[CV 3/10] END model__regressor__n_neighbors=3, model__regressor__p=3, model__regressor__weights=uniform;, score=-6.364 total time= 1.0min\n",
            "[CV 2/10] END model__regressor__n_neighbors=3, model__regressor__p=3, model__regressor__weights=distance;, score=-6.249 total time= 1.1min\n",
            "[CV 10/10] END model__regressor__n_neighbors=3, model__regressor__p=3, model__regressor__weights=distance;, score=-6.370 total time= 1.1min\n",
            "[CV 7/10] END model__regressor__n_neighbors=3, model__regressor__p=4, model__regressor__weights=uniform;, score=-6.356 total time= 1.0min\n",
            "[CV 4/10] END model__regressor__n_neighbors=3, model__regressor__p=3, model__regressor__weights=uniform;, score=-6.328 total time= 1.0min\n",
            "[CV 6/10] END model__regressor__n_neighbors=3, model__regressor__p=3, model__regressor__weights=distance;, score=-6.298 total time= 1.0min\n",
            "[CV 3/10] END model__regressor__n_neighbors=3, model__regressor__p=4, model__regressor__weights=uniform;, score=-6.327 total time= 1.1min\n",
            "[CV 8/10] END model__regressor__n_neighbors=3, model__regressor__p=4, model__regressor__weights=uniform;, score=-6.393 total time= 1.0min\n",
            "[CV 9/10] END model__regressor__n_neighbors=3, model__regressor__p=2, model__regressor__weights=distance;, score=-6.415 total time=   5.2s\n",
            "[CV 8/10] END model__regressor__n_neighbors=3, model__regressor__p=3, model__regressor__weights=uniform;, score=-6.422 total time= 1.0min\n",
            "[CV 5/10] END model__regressor__n_neighbors=3, model__regressor__p=3, model__regressor__weights=distance;, score=-6.339 total time= 1.0min\n",
            "[CV 2/10] END model__regressor__n_neighbors=3, model__regressor__p=4, model__regressor__weights=uniform;, score=-6.207 total time= 1.1min\n",
            "[CV 9/10] END model__regressor__n_neighbors=3, model__regressor__p=4, model__regressor__weights=uniform;, score=-6.496 total time= 1.0min\n",
            "[CV 1/10] END model__regressor__n_neighbors=3, model__regressor__p=1, model__regressor__weights=uniform;, score=-6.429 total time=   9.1s\n",
            "[CV 10/10] END model__regressor__n_neighbors=3, model__regressor__p=1, model__regressor__weights=uniform;, score=-6.240 total time=  11.0s\n",
            "[CV 10/10] END model__regressor__n_neighbors=3, model__regressor__p=1, model__regressor__weights=distance;, score=-6.233 total time=   9.1s\n",
            "[CV 9/10] END model__regressor__n_neighbors=3, model__regressor__p=2, model__regressor__weights=uniform;, score=-6.416 total time=   6.0s\n",
            "[CV 7/10] END model__regressor__n_neighbors=3, model__regressor__p=2, model__regressor__weights=distance;, score=-6.401 total time=   5.3s\n",
            "[CV 2/10] END model__regressor__n_neighbors=3, model__regressor__p=3, model__regressor__weights=uniform;, score=-6.254 total time= 1.0min\n",
            "[CV 10/10] END model__regressor__n_neighbors=3, model__regressor__p=3, model__regressor__weights=uniform;, score=-6.370 total time= 1.0min\n",
            "[CV 7/10] END model__regressor__n_neighbors=3, model__regressor__p=3, model__regressor__weights=distance;, score=-6.325 total time= 1.0min\n",
            "[CV 5/10] END model__regressor__n_neighbors=3, model__regressor__p=4, model__regressor__weights=uniform;, score=-6.363 total time=  59.4s\n",
            "[CV 3/10] END model__regressor__n_neighbors=3, model__regressor__p=4, model__regressor__weights=distance;, score=-6.337 total time=  57.3s\n",
            "[CV 1/10] END model__regressor__n_neighbors=3, model__regressor__p=4, model__regressor__weights=distance;, score=-6.302 total time= 1.0min\n",
            "[CV 9/10] END model__regressor__n_neighbors=3, model__regressor__p=4, model__regressor__weights=distance;, score=-6.485 total time= 1.0min\n",
            "[CV 5/10] END model__regressor__n_neighbors=3, model__regressor__p=5, model__regressor__weights=uniform;, score=-6.340 total time= 1.1min\n",
            "[CV 3/10] END model__regressor__n_neighbors=3, model__regressor__p=5, model__regressor__weights=distance;, score=-6.366 total time= 1.1min\n",
            "[CV 7/10] END model__regressor__n_neighbors=3, model__regressor__p=4, model__regressor__weights=distance;, score=-6.362 total time= 1.0min\n",
            "[CV 7/10] END model__regressor__n_neighbors=3, model__regressor__p=5, model__regressor__weights=uniform;, score=-6.309 total time= 1.1min\n",
            "[CV 5/10] END model__regressor__n_neighbors=3, model__regressor__p=5, model__regressor__weights=distance;, score=-6.337 total time= 1.1min\n",
            "[CV 4/10] END model__regressor__n_neighbors=5, model__regressor__p=1, model__regressor__weights=uniform;, score=-6.052 total time=  10.7s\n",
            "[CV 8/10] END model__regressor__n_neighbors=3, model__regressor__p=4, model__regressor__weights=distance;, score=-6.393 total time= 1.0min\n",
            "[CV 8/10] END model__regressor__n_neighbors=3, model__regressor__p=5, model__regressor__weights=uniform;, score=-6.421 total time= 1.1min\n",
            "[CV 6/10] END model__regressor__n_neighbors=3, model__regressor__p=5, model__regressor__weights=distance;, score=-6.279 total time= 1.1min\n",
            "[CV 2/10] END model__regressor__n_neighbors=5, model__regressor__p=1, model__regressor__weights=uniform;, score=-5.872 total time=  11.1s\n",
            "[CV 6/10] END model__regressor__n_neighbors=5, model__regressor__p=1, model__regressor__weights=uniform;, score=-5.964 total time=   9.4s\n",
            "[CV 1/10] END model__regressor__n_neighbors=3, model__regressor__p=5, model__regressor__weights=uniform;, score=-6.341 total time= 1.1min\n",
            "[CV 10/10] END model__regressor__n_neighbors=3, model__regressor__p=5, model__regressor__weights=uniform;, score=-6.290 total time= 1.1min\n",
            "[CV 8/10] END model__regressor__n_neighbors=3, model__regressor__p=5, model__regressor__weights=distance;, score=-6.420 total time=  51.0s\n",
            "[CV 3/10] END model__regressor__n_neighbors=5, model__regressor__p=1, model__regressor__weights=uniform;, score=-6.051 total time=  10.5s\n",
            "[CV 8/10] END model__regressor__n_neighbors=5, model__regressor__p=1, model__regressor__weights=uniform;, score=-5.990 total time=   9.6s\n",
            "[CV 1/10] END model__regressor__n_neighbors=5, model__regressor__p=1, model__regressor__weights=distance;, score=-6.137 total time=   9.0s\n",
            "[CV 5/10] END model__regressor__n_neighbors=5, model__regressor__p=1, model__regressor__weights=distance;, score=-6.074 total time=   7.9s\n",
            "[CV 2/10] END model__regressor__n_neighbors=3, model__regressor__p=2, model__regressor__weights=distance;, score=-6.179 total time=   5.3s\n",
            "[CV 5/10] END model__regressor__n_neighbors=3, model__regressor__p=3, model__regressor__weights=uniform;, score=-6.350 total time= 1.0min\n",
            "[CV 1/10] END model__regressor__n_neighbors=3, model__regressor__p=3, model__regressor__weights=distance;, score=-6.360 total time= 1.1min\n",
            "[CV 8/10] END model__regressor__n_neighbors=3, model__regressor__p=3, model__regressor__weights=distance;, score=-6.428 total time= 1.0min\n",
            "[CV 6/10] END model__regressor__n_neighbors=3, model__regressor__p=4, model__regressor__weights=uniform;, score=-6.320 total time= 1.0min\n",
            "[CV 4/10] END model__regressor__n_neighbors=3, model__regressor__p=4, model__regressor__weights=distance;, score=-6.343 total time=  57.7s\n",
            "[CV 2/10] END model__regressor__n_neighbors=3, model__regressor__p=5, model__regressor__weights=uniform;, score=-6.237 total time= 1.1min\n",
            "[CV 9/10] END model__regressor__n_neighbors=3, model__regressor__p=5, model__regressor__weights=uniform;, score=-6.434 total time= 1.0min\n",
            "[CV 7/10] END model__regressor__n_neighbors=3, model__regressor__p=5, model__regressor__weights=distance;, score=-6.317 total time=  51.7s\n",
            "[CV 3/10] END model__regressor__n_neighbors=5, model__regressor__p=1, model__regressor__weights=distance;, score=-6.056 total time=   8.2s\n",
            "[CV 6/10] END model__regressor__n_neighbors=5, model__regressor__p=1, model__regressor__weights=distance;, score=-5.962 total time=   6.4s\n",
            "[CV 2/10] END model__regressor__n_neighbors=5, model__regressor__p=2, model__regressor__weights=uniform;, score=-5.878 total time=   5.7s\n",
            "[CV 5/10] END model__regressor__n_neighbors=3, model__regressor__p=4, model__regressor__weights=distance;, score=-6.360 total time= 1.0min\n",
            "[CV 4/10] END model__regressor__n_neighbors=3, model__regressor__p=5, model__regressor__weights=uniform;, score=-6.297 total time= 1.1min\n",
            "[CV 2/10] END model__regressor__n_neighbors=3, model__regressor__p=5, model__regressor__weights=distance;, score=-6.230 total time= 1.1min\n",
            "[CV 10/10] END model__regressor__n_neighbors=3, model__regressor__p=5, model__regressor__weights=distance;, score=-6.289 total time=  46.8s\n",
            "[CV 4/10] END model__regressor__n_neighbors=5, model__regressor__p=2, model__regressor__weights=uniform;, score=-6.073 total time=   6.0s\n",
            "[CV 4/10] END model__regressor__n_neighbors=3, model__regressor__p=4, model__regressor__weights=uniform;, score=-6.343 total time= 1.0min\n",
            "[CV 2/10] END model__regressor__n_neighbors=3, model__regressor__p=4, model__regressor__weights=distance;, score=-6.203 total time= 1.0min\n",
            "[CV 10/10] END model__regressor__n_neighbors=3, model__regressor__p=4, model__regressor__weights=distance;, score=-6.314 total time= 1.0min\n",
            "[CV 6/10] END model__regressor__n_neighbors=3, model__regressor__p=5, model__regressor__weights=uniform;, score=-6.284 total time= 1.1min\n",
            "[CV 4/10] END model__regressor__n_neighbors=3, model__regressor__p=5, model__regressor__weights=distance;, score=-6.298 total time= 1.1min\n",
            "[CV 1/10] END model__regressor__n_neighbors=5, model__regressor__p=1, model__regressor__weights=uniform;, score=-6.136 total time=  10.6s\n",
            "[CV 5/10] END model__regressor__n_neighbors=5, model__regressor__p=1, model__regressor__weights=uniform;, score=-6.079 total time=   9.4s\n",
            "[CV 9/10] END model__regressor__n_neighbors=5, model__regressor__p=1, model__regressor__weights=uniform;, score=-6.170 total time=   9.3s\n",
            "[CV 2/10] END model__regressor__n_neighbors=5, model__regressor__p=1, model__regressor__weights=distance;, score=-5.873 total time=   9.3s\n",
            "[CV 7/10] END model__regressor__n_neighbors=5, model__regressor__p=1, model__regressor__weights=distance;, score=-6.036 total time=   7.4s\n",
            "[CV 5/10] END model__regressor__n_neighbors=5, model__regressor__p=2, model__regressor__weights=uniform;, score=-6.079 total time=   5.4s\n",
            "[CV 9/10] END model__regressor__n_neighbors=3, model__regressor__p=3, model__regressor__weights=distance;, score=-6.524 total time= 1.0min\n",
            "[CV 10/10] END model__regressor__n_neighbors=3, model__regressor__p=4, model__regressor__weights=uniform;, score=-6.312 total time= 1.1min\n",
            "[CV 6/10] END model__regressor__n_neighbors=3, model__regressor__p=4, model__regressor__weights=distance;, score=-6.309 total time=  59.6s\n",
            "[CV 3/10] END model__regressor__n_neighbors=3, model__regressor__p=5, model__regressor__weights=uniform;, score=-6.357 total time= 1.1min\n",
            "[CV 1/10] END model__regressor__n_neighbors=3, model__regressor__p=5, model__regressor__weights=distance;, score=-6.343 total time= 1.1min\n",
            "[CV 9/10] END model__regressor__n_neighbors=3, model__regressor__p=5, model__regressor__weights=distance;, score=-6.424 total time=  47.8s\n",
            "[CV 9/10] END model__regressor__n_neighbors=5, model__regressor__p=1, model__regressor__weights=distance;, score=-6.171 total time=   7.2s\n",
            "[CV 6/10] END model__regressor__n_neighbors=5, model__regressor__p=2, model__regressor__weights=uniform;, score=-5.961 total time=   5.0s\n",
            "[CV 7/10] END model__regressor__n_neighbors=5, model__regressor__p=1, model__regressor__weights=uniform;, score=-6.031 total time=   9.3s\n",
            "[CV 4/10] END model__regressor__n_neighbors=5, model__regressor__p=1, model__regressor__weights=distance;, score=-6.052 total time=   8.3s\n",
            "[CV 1/10] END model__regressor__n_neighbors=5, model__regressor__p=2, model__regressor__weights=uniform;, score=-6.164 total time=   5.3s\n",
            "[CV 3/10] END model__regressor__n_neighbors=5, model__regressor__p=2, model__regressor__weights=uniform;, score=-6.046 total time=   5.8s\n",
            "[CV 9/10] END model__regressor__n_neighbors=5, model__regressor__p=2, model__regressor__weights=uniform;, score=-6.127 total time=   5.1s\n",
            "[CV 10/10] END model__regressor__n_neighbors=5, model__regressor__p=1, model__regressor__weights=uniform;, score=-5.923 total time=   8.7s\n",
            "[CV 8/10] END model__regressor__n_neighbors=5, model__regressor__p=1, model__regressor__weights=distance;, score=-5.994 total time=   7.6s\n",
            "[CV 7/10] END model__regressor__n_neighbors=5, model__regressor__p=2, model__regressor__weights=uniform;, score=-6.039 total time=   5.6s\n",
            "[CV 1/10] END model__regressor__n_neighbors=5, model__regressor__p=2, model__regressor__weights=distance;, score=-6.162 total time=   4.8s\n",
            "[CV 8/10] END model__regressor__n_neighbors=5, model__regressor__p=2, model__regressor__weights=distance;, score=-6.069 total time=   5.7s\n",
            "[CV 10/10] END model__regressor__n_neighbors=5, model__regressor__p=1, model__regressor__weights=distance;, score=-5.920 total time=   7.1s\n",
            "[CV 10/10] END model__regressor__n_neighbors=5, model__regressor__p=2, model__regressor__weights=uniform;, score=-5.972 total time=   4.8s\n",
            "[CV 6/10] END model__regressor__n_neighbors=5, model__regressor__p=2, model__regressor__weights=distance;, score=-5.955 total time=   5.5s\n",
            "[CV 10/10] END model__regressor__n_neighbors=5, model__regressor__p=2, model__regressor__weights=distance;, score=-5.974 total time=   6.3s\n",
            "[CV 7/10] END model__regressor__n_neighbors=5, model__regressor__p=3, model__regressor__weights=uniform;, score=-6.024 total time= 1.1min\n",
            "[CV 4/10] END model__regressor__n_neighbors=5, model__regressor__p=3, model__regressor__weights=distance;, score=-5.995 total time= 1.1min\n",
            "[CV 8/10] END model__regressor__n_neighbors=5, model__regressor__p=2, model__regressor__weights=uniform;, score=-6.072 total time=   5.1s\n",
            "[CV 7/10] END model__regressor__n_neighbors=5, model__regressor__p=2, model__regressor__weights=distance;, score=-6.046 total time=   6.4s\n",
            "[CV 2/10] END model__regressor__n_neighbors=5, model__regressor__p=3, model__regressor__weights=uniform;, score=-5.943 total time= 1.1min\n",
            "[CV 10/10] END model__regressor__n_neighbors=5, model__regressor__p=3, model__regressor__weights=uniform;, score=-5.957 total time= 1.1min\n",
            "[CV 8/10] END model__regressor__n_neighbors=5, model__regressor__p=3, model__regressor__weights=distance;, score=-6.039 total time= 1.0min\n",
            "[CV 5/10] END model__regressor__n_neighbors=5, model__regressor__p=4, model__regressor__weights=uniform;, score=-6.044 total time= 1.1min\n",
            "[CV 4/10] END model__regressor__n_neighbors=5, model__regressor__p=3, model__regressor__weights=uniform;, score=-5.996 total time= 1.1min\n",
            "[CV 6/10] END model__regressor__n_neighbors=5, model__regressor__p=3, model__regressor__weights=distance;, score=-5.954 total time= 1.1min\n",
            "[CV 3/10] END model__regressor__n_neighbors=5, model__regressor__p=4, model__regressor__weights=uniform;, score=-6.126 total time= 1.1min\n",
            "[CV 1/10] END model__regressor__n_neighbors=5, model__regressor__p=4, model__regressor__weights=distance;, score=-6.037 total time= 1.1min\n",
            "[CV 4/10] END model__regressor__n_neighbors=5, model__regressor__p=4, model__regressor__weights=uniform;, score=-5.887 total time= 1.1min\n",
            "[CV 2/10] END model__regressor__n_neighbors=5, model__regressor__p=4, model__regressor__weights=distance;, score=-5.899 total time= 1.1min\n",
            "[CV 10/10] END model__regressor__n_neighbors=5, model__regressor__p=4, model__regressor__weights=distance;, score=-5.940 total time= 1.1min\n",
            "[CV 7/10] END model__regressor__n_neighbors=5, model__regressor__p=5, model__regressor__weights=uniform;, score=-6.026 total time= 1.1min\n",
            "[CV 5/10] END model__regressor__n_neighbors=5, model__regressor__p=5, model__regressor__weights=distance;, score=-6.016 total time= 1.0min\n",
            "[CV 9/10] END model__regressor__n_neighbors=5, model__regressor__p=4, model__regressor__weights=distance;, score=-6.186 total time= 1.1min\n",
            "[CV 8/10] END model__regressor__n_neighbors=5, model__regressor__p=5, model__regressor__weights=uniform;, score=-6.089 total time= 1.1min\n",
            "[CV 6/10] END model__regressor__n_neighbors=5, model__regressor__p=5, model__regressor__weights=distance;, score=-5.918 total time= 1.0min\n",
            "[CV 5/10] END model__regressor__n_neighbors=7, model__regressor__p=1, model__regressor__weights=uniform;, score=-5.903 total time=   8.8s\n",
            "[CV 8/10] END model__regressor__n_neighbors=7, model__regressor__p=1, model__regressor__weights=uniform;, score=-5.936 total time=   8.8s\n",
            "[CV 3/10] END model__regressor__n_neighbors=7, model__regressor__p=1, model__regressor__weights=distance;, score=-5.906 total time=   7.8s\n",
            "[CV 8/10] END model__regressor__n_neighbors=7, model__regressor__p=1, model__regressor__weights=distance;, score=-5.928 total time=   6.4s\n",
            "[CV 4/10] END model__regressor__n_neighbors=5, model__regressor__p=4, model__regressor__weights=distance;, score=-5.897 total time= 1.1min\n",
            "[CV 5/10] END model__regressor__n_neighbors=5, model__regressor__p=5, model__regressor__weights=uniform;, score=-6.017 total time= 1.1min\n",
            "[CV 3/10] END model__regressor__n_neighbors=5, model__regressor__p=5, model__regressor__weights=distance;, score=-6.090 total time= 1.1min\n",
            "[CV 1/10] END model__regressor__n_neighbors=7, model__regressor__p=1, model__regressor__weights=uniform;, score=-6.032 total time=   9.2s\n",
            "[CV 3/10] END model__regressor__n_neighbors=7, model__regressor__p=1, model__regressor__weights=uniform;, score=-5.902 total time=   8.4s\n",
            "[CV 7/10] END model__regressor__n_neighbors=7, model__regressor__p=1, model__regressor__weights=uniform;, score=-5.935 total time=   8.8s\n",
            "[CV 1/10] END model__regressor__n_neighbors=7, model__regressor__p=1, model__regressor__weights=distance;, score=-6.034 total time=   8.0s\n",
            "[CV 5/10] END model__regressor__n_neighbors=7, model__regressor__p=1, model__regressor__weights=distance;, score=-5.902 total time=   7.1s\n",
            "[CV 1/10] END model__regressor__n_neighbors=7, model__regressor__p=2, model__regressor__weights=uniform;, score=-5.994 total time=   3.7s\n",
            "[CV 9/10] END model__regressor__n_neighbors=5, model__regressor__p=2, model__regressor__weights=distance;, score=-6.123 total time=   5.9s\n",
            "[CV 8/10] END model__regressor__n_neighbors=5, model__regressor__p=3, model__regressor__weights=uniform;, score=-6.043 total time= 1.1min\n",
            "[CV 5/10] END model__regressor__n_neighbors=5, model__regressor__p=3, model__regressor__weights=distance;, score=-6.059 total time= 1.1min\n",
            "[CV 2/10] END model__regressor__n_neighbors=5, model__regressor__p=4, model__regressor__weights=uniform;, score=-5.902 total time= 1.1min\n",
            "[CV 10/10] END model__regressor__n_neighbors=5, model__regressor__p=4, model__regressor__weights=uniform;, score=-5.933 total time= 1.1min\n",
            "[CV 8/10] END model__regressor__n_neighbors=5, model__regressor__p=4, model__regressor__weights=distance;, score=-6.040 total time= 1.1min\n",
            "[CV 6/10] END model__regressor__n_neighbors=5, model__regressor__p=5, model__regressor__weights=uniform;, score=-5.926 total time= 1.1min\n",
            "[CV 4/10] END model__regressor__n_neighbors=5, model__regressor__p=5, model__regressor__weights=distance;, score=-5.943 total time= 1.1min\n",
            "[CV 2/10] END model__regressor__n_neighbors=7, model__regressor__p=1, model__regressor__weights=uniform;, score=-5.771 total time=   9.0s\n",
            "[CV 6/10] END model__regressor__n_neighbors=7, model__regressor__p=1, model__regressor__weights=uniform;, score=-5.791 total time=   9.0s\n",
            "[CV 9/10] END model__regressor__n_neighbors=7, model__regressor__p=1, model__regressor__weights=uniform;, score=-6.003 total time=   8.4s\n",
            "[CV 2/10] END model__regressor__n_neighbors=7, model__regressor__p=1, model__regressor__weights=distance;, score=-5.765 total time=   8.2s\n",
            "[CV 7/10] END model__regressor__n_neighbors=7, model__regressor__p=1, model__regressor__weights=distance;, score=-5.935 total time=   6.4s\n",
            "[CV 2/10] END model__regressor__n_neighbors=7, model__regressor__p=2, model__regressor__weights=uniform;, score=-5.739 total time=   3.8s\n",
            "[CV 5/10] END model__regressor__n_neighbors=5, model__regressor__p=2, model__regressor__weights=distance;, score=-6.074 total time=   6.5s\n",
            "[CV 5/10] END model__regressor__n_neighbors=5, model__regressor__p=3, model__regressor__weights=uniform;, score=-6.064 total time= 1.1min\n",
            "[CV 2/10] END model__regressor__n_neighbors=5, model__regressor__p=3, model__regressor__weights=distance;, score=-5.938 total time= 1.1min\n",
            "[CV 9/10] END model__regressor__n_neighbors=5, model__regressor__p=3, model__regressor__weights=distance;, score=-6.146 total time= 1.1min\n",
            "[CV 7/10] END model__regressor__n_neighbors=5, model__regressor__p=4, model__regressor__weights=uniform;, score=-6.045 total time= 1.1min\n",
            "[CV 7/10] END model__regressor__n_neighbors=5, model__regressor__p=4, model__regressor__weights=distance;, score=-6.056 total time= 1.1min\n",
            "[CV 4/10] END model__regressor__n_neighbors=5, model__regressor__p=5, model__regressor__weights=uniform;, score=-5.937 total time= 1.1min\n",
            "[CV 10/10] END model__regressor__n_neighbors=5, model__regressor__p=5, model__regressor__weights=uniform;, score=-5.934 total time= 1.1min\n",
            "[CV 9/10] END model__regressor__n_neighbors=5, model__regressor__p=5, model__regressor__weights=distance;, score=-6.171 total time=  46.2s\n",
            "[CV 5/10] END model__regressor__n_neighbors=7, model__regressor__p=2, model__regressor__weights=uniform;, score=-5.873 total time=   3.6s\n",
            "[CV 3/10] END model__regressor__n_neighbors=5, model__regressor__p=2, model__regressor__weights=distance;, score=-6.050 total time=   7.0s\n",
            "[CV 3/10] END model__regressor__n_neighbors=5, model__regressor__p=3, model__regressor__weights=uniform;, score=-5.977 total time= 1.1min\n",
            "[CV 3/10] END model__regressor__n_neighbors=5, model__regressor__p=3, model__regressor__weights=distance;, score=-5.985 total time= 1.1min\n",
            "[CV 1/10] END model__regressor__n_neighbors=5, model__regressor__p=4, model__regressor__weights=uniform;, score=-6.036 total time= 1.1min\n",
            "[CV 8/10] END model__regressor__n_neighbors=5, model__regressor__p=4, model__regressor__weights=uniform;, score=-6.038 total time= 1.1min\n",
            "[CV 5/10] END model__regressor__n_neighbors=5, model__regressor__p=4, model__regressor__weights=distance;, score=-6.041 total time= 1.1min\n",
            "[CV 2/10] END model__regressor__n_neighbors=5, model__regressor__p=5, model__regressor__weights=uniform;, score=-5.932 total time= 1.1min\n",
            "[CV 1/10] END model__regressor__n_neighbors=5, model__regressor__p=5, model__regressor__weights=distance;, score=-6.013 total time= 1.1min\n",
            "[CV 10/10] END model__regressor__n_neighbors=5, model__regressor__p=5, model__regressor__weights=distance;, score=-5.941 total time=  45.8s\n",
            "[CV 3/10] END model__regressor__n_neighbors=7, model__regressor__p=2, model__regressor__weights=uniform;, score=-5.884 total time=   3.8s\n",
            "[CV 4/10] END model__regressor__n_neighbors=5, model__regressor__p=2, model__regressor__weights=distance;, score=-6.072 total time=   6.5s\n",
            "[CV 6/10] END model__regressor__n_neighbors=5, model__regressor__p=3, model__regressor__weights=uniform;, score=-5.955 total time= 1.1min\n",
            "[CV 1/10] END model__regressor__n_neighbors=5, model__regressor__p=3, model__regressor__weights=distance;, score=-6.114 total time= 1.1min\n",
            "[CV 10/10] END model__regressor__n_neighbors=5, model__regressor__p=3, model__regressor__weights=distance;, score=-5.962 total time= 1.1min\n",
            "[CV 9/10] END model__regressor__n_neighbors=5, model__regressor__p=4, model__regressor__weights=uniform;, score=-6.191 total time= 1.1min\n",
            "[CV 6/10] END model__regressor__n_neighbors=5, model__regressor__p=4, model__regressor__weights=distance;, score=-5.952 total time= 1.1min\n",
            "[CV 3/10] END model__regressor__n_neighbors=5, model__regressor__p=5, model__regressor__weights=uniform;, score=-6.084 total time= 1.1min\n",
            "[CV 2/10] END model__regressor__n_neighbors=5, model__regressor__p=5, model__regressor__weights=distance;, score=-5.928 total time= 1.0min\n",
            "[CV 8/10] END model__regressor__n_neighbors=5, model__regressor__p=5, model__regressor__weights=distance;, score=-6.085 total time=  46.7s\n",
            "[CV 4/10] END model__regressor__n_neighbors=7, model__regressor__p=2, model__regressor__weights=uniform;, score=-5.914 total time=   4.0s\n",
            "[CV 4/10] END model__regressor__n_neighbors=7, model__regressor__p=1, model__regressor__weights=uniform;, score=-5.935 total time=   9.4s\n",
            "[CV 10/10] END model__regressor__n_neighbors=7, model__regressor__p=1, model__regressor__weights=uniform;, score=-5.761 total time=   8.7s\n",
            "[CV 4/10] END model__regressor__n_neighbors=7, model__regressor__p=1, model__regressor__weights=distance;, score=-5.935 total time=   7.1s\n",
            "[CV 9/10] END model__regressor__n_neighbors=7, model__regressor__p=1, model__regressor__weights=distance;, score=-6.003 total time=   4.6s\n",
            "[CV 7/10] END model__regressor__n_neighbors=7, model__regressor__p=2, model__regressor__weights=uniform;, score=-5.890 total time=   2.9s\n",
            "[CV 2/10] END model__regressor__n_neighbors=5, model__regressor__p=2, model__regressor__weights=distance;, score=-5.882 total time=   6.0s\n",
            "[CV 1/10] END model__regressor__n_neighbors=5, model__regressor__p=3, model__regressor__weights=uniform;, score=-6.111 total time= 1.1min\n",
            "[CV 9/10] END model__regressor__n_neighbors=5, model__regressor__p=3, model__regressor__weights=uniform;, score=-6.148 total time= 1.1min\n",
            "[CV 7/10] END model__regressor__n_neighbors=5, model__regressor__p=3, model__regressor__weights=distance;, score=-6.031 total time= 1.1min\n",
            "[CV 6/10] END model__regressor__n_neighbors=5, model__regressor__p=4, model__regressor__weights=uniform;, score=-5.959 total time= 1.1min\n",
            "[CV 3/10] END model__regressor__n_neighbors=5, model__regressor__p=4, model__regressor__weights=distance;, score=-6.127 total time= 1.0min\n",
            "[CV 1/10] END model__regressor__n_neighbors=5, model__regressor__p=5, model__regressor__weights=uniform;, score=-6.014 total time= 1.0min\n",
            "[CV 9/10] END model__regressor__n_neighbors=5, model__regressor__p=5, model__regressor__weights=uniform;, score=-6.177 total time= 1.1min\n",
            "[CV 7/10] END model__regressor__n_neighbors=5, model__regressor__p=5, model__regressor__weights=distance;, score=-6.037 total time=  50.6s\n",
            "[CV 6/10] END model__regressor__n_neighbors=7, model__regressor__p=1, model__regressor__weights=distance;, score=-5.791 total time=   6.3s\n",
            "[CV 10/10] END model__regressor__n_neighbors=7, model__regressor__p=1, model__regressor__weights=distance;, score=-5.760 total time=   4.9s\n",
            "[CV 9/10] END model__regressor__n_neighbors=7, model__regressor__p=2, model__regressor__weights=uniform;, score=-6.030 total time=   3.0s\n",
            "[CV 10/10] END model__regressor__n_neighbors=7, model__regressor__p=2, model__regressor__weights=uniform;, score=-5.807 total time=   3.9s\n",
            "[CV 10/10] END model__regressor__n_neighbors=7, model__regressor__p=2, model__regressor__weights=distance;, score=-5.806 total time=   4.3s\n",
            "[CV 7/10] END model__regressor__n_neighbors=7, model__regressor__p=3, model__regressor__weights=uniform;, score=-5.888 total time= 1.0min\n",
            "[CV 5/10] END model__regressor__n_neighbors=7, model__regressor__p=3, model__regressor__weights=distance;, score=-5.914 total time= 1.0min\n",
            "[CV 3/10] END model__regressor__n_neighbors=7, model__regressor__p=4, model__regressor__weights=uniform;, score=-5.959 total time= 1.0min\n",
            "[CV 1/10] END model__regressor__n_neighbors=7, model__regressor__p=4, model__regressor__weights=distance;, score=-5.952 total time= 1.0min\n",
            "[CV 8/10] END model__regressor__n_neighbors=7, model__regressor__p=2, model__regressor__weights=uniform;, score=-5.930 total time=   3.4s\n",
            "[CV 7/10] END model__regressor__n_neighbors=7, model__regressor__p=2, model__regressor__weights=distance;, score=-5.895 total time=   3.7s\n",
            "[CV 3/10] END model__regressor__n_neighbors=7, model__regressor__p=3, model__regressor__weights=uniform;, score=-5.869 total time= 1.0min\n",
            "[CV 10/10] END model__regressor__n_neighbors=7, model__regressor__p=3, model__regressor__weights=uniform;, score=-5.852 total time= 1.1min\n",
            "[CV 2/10] END model__regressor__n_neighbors=7, model__regressor__p=4, model__regressor__weights=uniform;, score=-5.776 total time= 1.0min\n",
            "[CV 9/10] END model__regressor__n_neighbors=7, model__regressor__p=4, model__regressor__weights=uniform;, score=-6.006 total time= 1.0min\n",
            "[CV 5/10] END model__regressor__n_neighbors=7, model__regressor__p=4, model__regressor__weights=distance;, score=-5.897 total time=  59.9s\n",
            "[CV 6/10] END model__regressor__n_neighbors=7, model__regressor__p=2, model__regressor__weights=uniform;, score=-5.816 total time=   2.6s\n",
            "[CV 4/10] END model__regressor__n_neighbors=7, model__regressor__p=2, model__regressor__weights=distance;, score=-5.914 total time=   3.1s\n",
            "[CV 8/10] END model__regressor__n_neighbors=7, model__regressor__p=2, model__regressor__weights=distance;, score=-5.930 total time=   3.6s\n",
            "[CV 5/10] END model__regressor__n_neighbors=7, model__regressor__p=3, model__regressor__weights=uniform;, score=-5.923 total time= 1.0min\n",
            "[CV 1/10] END model__regressor__n_neighbors=7, model__regressor__p=3, model__regressor__weights=distance;, score=-5.988 total time= 1.0min\n",
            "[CV 8/10] END model__regressor__n_neighbors=7, model__regressor__p=3, model__regressor__weights=distance;, score=-5.924 total time= 1.0min\n",
            "[CV 6/10] END model__regressor__n_neighbors=7, model__regressor__p=4, model__regressor__weights=uniform;, score=-5.795 total time= 1.0min\n",
            "[CV 4/10] END model__regressor__n_neighbors=7, model__regressor__p=4, model__regressor__weights=distance;, score=-5.792 total time=  59.6s\n",
            "[CV 2/10] END model__regressor__n_neighbors=7, model__regressor__p=5, model__regressor__weights=uniform;, score=-5.776 total time= 1.0min\n",
            "[CV 10/10] END model__regressor__n_neighbors=7, model__regressor__p=5, model__regressor__weights=uniform;, score=-5.773 total time= 1.1min\n",
            "[CV 1/10] END model__regressor__n_neighbors=7, model__regressor__p=2, model__regressor__weights=distance;, score=-5.996 total time=   3.2s\n",
            "[CV 9/10] END model__regressor__n_neighbors=7, model__regressor__p=2, model__regressor__weights=distance;, score=-6.026 total time=   3.5s\n",
            "[CV 6/10] END model__regressor__n_neighbors=7, model__regressor__p=3, model__regressor__weights=uniform;, score=-5.802 total time= 1.0min\n",
            "[CV 4/10] END model__regressor__n_neighbors=7, model__regressor__p=3, model__regressor__weights=distance;, score=-5.866 total time= 1.0min\n",
            "[CV 1/10] END model__regressor__n_neighbors=7, model__regressor__p=4, model__regressor__weights=uniform;, score=-5.952 total time= 1.0min\n",
            "[CV 10/10] END model__regressor__n_neighbors=7, model__regressor__p=4, model__regressor__weights=uniform;, score=-5.774 total time= 1.0min\n",
            "[CV 7/10] END model__regressor__n_neighbors=7, model__regressor__p=4, model__regressor__weights=distance;, score=-5.905 total time= 1.0min\n",
            "[CV 4/10] END model__regressor__n_neighbors=7, model__regressor__p=5, model__regressor__weights=uniform;, score=-5.790 total time= 1.0min\n",
            "[CV 2/10] END model__regressor__n_neighbors=7, model__regressor__p=5, model__regressor__weights=distance;, score=-5.774 total time= 1.1min\n",
            "[CV 10/10] END model__regressor__n_neighbors=7, model__regressor__p=4, model__regressor__weights=distance;, score=-5.778 total time= 1.0min\n",
            "[CV 8/10] END model__regressor__n_neighbors=7, model__regressor__p=5, model__regressor__weights=uniform;, score=-5.935 total time= 1.0min\n",
            "[CV 6/10] END model__regressor__n_neighbors=7, model__regressor__p=5, model__regressor__weights=distance;, score=-5.786 total time= 1.0min\n"
          ]
        },
        {
          "output_type": "execute_result",
          "data": {
            "text/plain": [
              "GridSearchCV(cv=KFold(n_splits=10, random_state=42, shuffle=True),\n",
              "             estimator=Pipeline(steps=[('imputer',\n",
              "                                        SimpleImputer(strategy='median')),\n",
              "                                       ('scaling', MinMaxScaler()),\n",
              "                                       ('model',\n",
              "                                        TransformedTargetRegressor(regressor=KNeighborsRegressor(n_jobs=-1),\n",
              "                                                                   transformer=MinMaxScaler()))]),\n",
              "             n_jobs=-1,\n",
              "             param_grid={'model__regressor__n_neighbors': [3, 5, 7],\n",
              "                         'model__regressor__p': [1, 2, 3, 4, 5],\n",
              "                         'model__regressor__weights': ['uniform', 'distance']},\n",
              "             scoring='neg_mean_absolute_error', verbose=5)"
            ]
          },
          "metadata": {},
          "execution_count": 8
        }
      ],
      "source": [
        "cv = KFold(n_splits=10, shuffle=True, random_state=42)\n",
        "\n",
        "searcher = GridSearchCV(\n",
        "    create_pipeline(),\n",
        "    search_space,\n",
        "    scoring='neg_mean_absolute_error',\n",
        "    n_jobs=-1,\n",
        "    cv=cv,\n",
        "    verbose=5\n",
        ")\n",
        "\n",
        "searcher.fit(X_full_train, y_full_train)"
      ]
    },
    {
      "cell_type": "code",
      "execution_count": null,
      "metadata": {
        "id": "6ZViu-ubOGN3",
        "colab": {
          "base_uri": "https://localhost:8080/"
        },
        "outputId": "b98f634c-0e47-4344-947b-0f601bf654b0"
      },
      "outputs": [
        {
          "output_type": "execute_result",
          "data": {
            "text/plain": [
              "-5.8752930880272825"
            ]
          },
          "metadata": {},
          "execution_count": 9
        }
      ],
      "source": [
        "searcher.best_score_"
      ]
    },
    {
      "cell_type": "code",
      "execution_count": null,
      "metadata": {
        "id": "lqSlHZ2wOHwS",
        "colab": {
          "base_uri": "https://localhost:8080/"
        },
        "outputId": "64d01394-2f0b-45db-d499-f35cdc5573be"
      },
      "outputs": [
        {
          "output_type": "execute_result",
          "data": {
            "text/plain": [
              "{'model__regressor__n_neighbors': 7,\n",
              " 'model__regressor__p': 5,\n",
              " 'model__regressor__weights': 'uniform'}"
            ]
          },
          "metadata": {},
          "execution_count": 10
        }
      ],
      "source": [
        "searcher.best_params_"
      ]
    }
  ],
  "metadata": {
    "colab": {
      "provenance": [],
      "include_colab_link": true
    },
    "kernelspec": {
      "display_name": "Python 3",
      "name": "python3"
    },
    "language_info": {
      "name": "python"
    }
  },
  "nbformat": 4,
  "nbformat_minor": 0
}