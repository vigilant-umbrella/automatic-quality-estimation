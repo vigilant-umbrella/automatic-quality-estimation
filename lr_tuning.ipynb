{
  "nbformat": 4,
  "nbformat_minor": 0,
  "metadata": {
    "colab": {
      "provenance": [],
      "include_colab_link": true
    },
    "kernelspec": {
      "name": "python3",
      "display_name": "Python 3"
    },
    "language_info": {
      "name": "python"
    }
  },
  "cells": [
    {
      "cell_type": "markdown",
      "metadata": {
        "id": "view-in-github",
        "colab_type": "text"
      },
      "source": [
        "<a href=\"https://colab.research.google.com/github/vigilant-umbrella/automatic-quality-estimation/blob/main/lr_tuning.ipynb\" target=\"_parent\"><img src=\"https://colab.research.google.com/assets/colab-badge.svg\" alt=\"Open In Colab\"/></a>"
      ]
    },
    {
      "cell_type": "code",
      "metadata": {
        "id": "cFbk4OwD35cT",
        "colab": {
          "base_uri": "https://localhost:8080/"
        },
        "outputId": "a419f858-c270-4368-c03e-11c0b0580598"
      },
      "source": [
        "from google.colab import drive\n",
        "drive.mount('/content/drive')"
      ],
      "execution_count": null,
      "outputs": [
        {
          "output_type": "stream",
          "name": "stdout",
          "text": [
            "Mounted at /content/drive\n"
          ]
        }
      ]
    },
    {
      "cell_type": "code",
      "metadata": {
        "id": "VuwQ-Mn65UV9"
      },
      "source": [
        "import os\n",
        "\n",
        "import pandas as pd\n",
        "\n",
        "from sklearn.model_selection import train_test_split\n",
        "from sklearn.impute import SimpleImputer\n",
        "from sklearn.preprocessing import MinMaxScaler\n",
        "from sklearn.linear_model import LinearRegression\n",
        "from sklearn.compose import TransformedTargetRegressor\n",
        "from sklearn.pipeline import Pipeline\n",
        "from sklearn.model_selection import KFold\n",
        "from sklearn.model_selection import GridSearchCV"
      ],
      "execution_count": null,
      "outputs": []
    },
    {
      "cell_type": "code",
      "metadata": {
        "id": "65sm94oH5IK4"
      },
      "source": [
        "os.chdir('./drive/My Drive/wikiHow')"
      ],
      "execution_count": null,
      "outputs": []
    },
    {
      "cell_type": "markdown",
      "source": [
        "# Loading Data"
      ],
      "metadata": {
        "id": "TdKKeBvtKsS3"
      }
    },
    {
      "cell_type": "code",
      "metadata": {
        "id": "NmxLF-TCcFfh",
        "colab": {
          "base_uri": "https://localhost:8080/",
          "height": 256
        },
        "outputId": "6563d45d-9f24-4529-d69e-e2d062e3cf84"
      },
      "source": [
        "df = pd.read_csv('wikihow.csv')\n",
        "df.head()"
      ],
      "execution_count": null,
      "outputs": [
        {
          "output_type": "execute_result",
          "data": {
            "text/plain": [
              "   character_count  word_count  method_count  mean_method_size  \\\n",
              "0             7107        1508             2       3357.500000   \n",
              "1             5180        1176             2       2419.500000   \n",
              "2             3822         902             3       1114.333333   \n",
              "3            11614        2429             3       3604.333333   \n",
              "4             9633        2004             4       2310.500000   \n",
              "\n",
              "   mean_paragraph_size  size_largest_method  size_shortest_method  \\\n",
              "0           379.823529                 4321                  2394   \n",
              "1           317.000000                 3171                  1668   \n",
              "2           263.333333                 1521                   881   \n",
              "3           393.111111                 4148                  2832   \n",
              "4           535.411765                 2753                  1922   \n",
              "\n",
              "   std_method_size  step_count  mean_steps_per_method  ...   Kincaid  \\\n",
              "0       963.500000          16               8.000000  ...  7.523760   \n",
              "1       751.500000          14               7.000000  ...  4.951055   \n",
              "2       288.598144          11               3.666667  ...  6.020412   \n",
              "3       561.058721          26               8.666667  ...  7.798307   \n",
              "4       329.196370          16               4.000000  ...  8.716429   \n",
              "\n",
              "        ARI  Coleman_Liau  FleschReadingEase  GunningFogIndex        LIX  \\\n",
              "0  8.159750      9.908877          67.453457        10.820887  36.866542   \n",
              "1  5.505902      7.708411          81.614246         8.897157  33.807519   \n",
              "2  6.727450      7.309495          81.109399         9.797251  31.810200   \n",
              "3  8.728719     10.376311          66.362137        11.577962  38.743177   \n",
              "4  9.423549     10.661749          61.827048        13.316999  42.773535   \n",
              "\n",
              "   SMOGIndex       RIX  DaleChallIndex  percent_helpful  \n",
              "0  10.376433  3.264706       10.086871               78  \n",
              "1   9.052403  2.652632        9.111023               99  \n",
              "2   9.310165  2.527273        8.038576               88  \n",
              "3  10.914639  3.584906        9.965255               82  \n",
              "4  12.116729  4.327869        9.123631              100  \n",
              "\n",
              "[5 rows x 45 columns]"
            ],
            "text/html": [
              "<div>\n",
              "<style scoped>\n",
              "    .dataframe tbody tr th:only-of-type {\n",
              "        vertical-align: middle;\n",
              "    }\n",
              "\n",
              "    .dataframe tbody tr th {\n",
              "        vertical-align: top;\n",
              "    }\n",
              "\n",
              "    .dataframe thead th {\n",
              "        text-align: right;\n",
              "    }\n",
              "</style>\n",
              "<table border=\"1\" class=\"dataframe\">\n",
              "  <thead>\n",
              "    <tr style=\"text-align: right;\">\n",
              "      <th></th>\n",
              "      <th>character_count</th>\n",
              "      <th>word_count</th>\n",
              "      <th>method_count</th>\n",
              "      <th>mean_method_size</th>\n",
              "      <th>mean_paragraph_size</th>\n",
              "      <th>size_largest_method</th>\n",
              "      <th>size_shortest_method</th>\n",
              "      <th>std_method_size</th>\n",
              "      <th>step_count</th>\n",
              "      <th>mean_steps_per_method</th>\n",
              "      <th>...</th>\n",
              "      <th>Kincaid</th>\n",
              "      <th>ARI</th>\n",
              "      <th>Coleman_Liau</th>\n",
              "      <th>FleschReadingEase</th>\n",
              "      <th>GunningFogIndex</th>\n",
              "      <th>LIX</th>\n",
              "      <th>SMOGIndex</th>\n",
              "      <th>RIX</th>\n",
              "      <th>DaleChallIndex</th>\n",
              "      <th>percent_helpful</th>\n",
              "    </tr>\n",
              "  </thead>\n",
              "  <tbody>\n",
              "    <tr>\n",
              "      <th>0</th>\n",
              "      <td>7107</td>\n",
              "      <td>1508</td>\n",
              "      <td>2</td>\n",
              "      <td>3357.500000</td>\n",
              "      <td>379.823529</td>\n",
              "      <td>4321</td>\n",
              "      <td>2394</td>\n",
              "      <td>963.500000</td>\n",
              "      <td>16</td>\n",
              "      <td>8.000000</td>\n",
              "      <td>...</td>\n",
              "      <td>7.523760</td>\n",
              "      <td>8.159750</td>\n",
              "      <td>9.908877</td>\n",
              "      <td>67.453457</td>\n",
              "      <td>10.820887</td>\n",
              "      <td>36.866542</td>\n",
              "      <td>10.376433</td>\n",
              "      <td>3.264706</td>\n",
              "      <td>10.086871</td>\n",
              "      <td>78</td>\n",
              "    </tr>\n",
              "    <tr>\n",
              "      <th>1</th>\n",
              "      <td>5180</td>\n",
              "      <td>1176</td>\n",
              "      <td>2</td>\n",
              "      <td>2419.500000</td>\n",
              "      <td>317.000000</td>\n",
              "      <td>3171</td>\n",
              "      <td>1668</td>\n",
              "      <td>751.500000</td>\n",
              "      <td>14</td>\n",
              "      <td>7.000000</td>\n",
              "      <td>...</td>\n",
              "      <td>4.951055</td>\n",
              "      <td>5.505902</td>\n",
              "      <td>7.708411</td>\n",
              "      <td>81.614246</td>\n",
              "      <td>8.897157</td>\n",
              "      <td>33.807519</td>\n",
              "      <td>9.052403</td>\n",
              "      <td>2.652632</td>\n",
              "      <td>9.111023</td>\n",
              "      <td>99</td>\n",
              "    </tr>\n",
              "    <tr>\n",
              "      <th>2</th>\n",
              "      <td>3822</td>\n",
              "      <td>902</td>\n",
              "      <td>3</td>\n",
              "      <td>1114.333333</td>\n",
              "      <td>263.333333</td>\n",
              "      <td>1521</td>\n",
              "      <td>881</td>\n",
              "      <td>288.598144</td>\n",
              "      <td>11</td>\n",
              "      <td>3.666667</td>\n",
              "      <td>...</td>\n",
              "      <td>6.020412</td>\n",
              "      <td>6.727450</td>\n",
              "      <td>7.309495</td>\n",
              "      <td>81.109399</td>\n",
              "      <td>9.797251</td>\n",
              "      <td>31.810200</td>\n",
              "      <td>9.310165</td>\n",
              "      <td>2.527273</td>\n",
              "      <td>8.038576</td>\n",
              "      <td>88</td>\n",
              "    </tr>\n",
              "    <tr>\n",
              "      <th>3</th>\n",
              "      <td>11614</td>\n",
              "      <td>2429</td>\n",
              "      <td>3</td>\n",
              "      <td>3604.333333</td>\n",
              "      <td>393.111111</td>\n",
              "      <td>4148</td>\n",
              "      <td>2832</td>\n",
              "      <td>561.058721</td>\n",
              "      <td>26</td>\n",
              "      <td>8.666667</td>\n",
              "      <td>...</td>\n",
              "      <td>7.798307</td>\n",
              "      <td>8.728719</td>\n",
              "      <td>10.376311</td>\n",
              "      <td>66.362137</td>\n",
              "      <td>11.577962</td>\n",
              "      <td>38.743177</td>\n",
              "      <td>10.914639</td>\n",
              "      <td>3.584906</td>\n",
              "      <td>9.965255</td>\n",
              "      <td>82</td>\n",
              "    </tr>\n",
              "    <tr>\n",
              "      <th>4</th>\n",
              "      <td>9633</td>\n",
              "      <td>2004</td>\n",
              "      <td>4</td>\n",
              "      <td>2310.500000</td>\n",
              "      <td>535.411765</td>\n",
              "      <td>2753</td>\n",
              "      <td>1922</td>\n",
              "      <td>329.196370</td>\n",
              "      <td>16</td>\n",
              "      <td>4.000000</td>\n",
              "      <td>...</td>\n",
              "      <td>8.716429</td>\n",
              "      <td>9.423549</td>\n",
              "      <td>10.661749</td>\n",
              "      <td>61.827048</td>\n",
              "      <td>13.316999</td>\n",
              "      <td>42.773535</td>\n",
              "      <td>12.116729</td>\n",
              "      <td>4.327869</td>\n",
              "      <td>9.123631</td>\n",
              "      <td>100</td>\n",
              "    </tr>\n",
              "  </tbody>\n",
              "</table>\n",
              "<p>5 rows × 45 columns</p>\n",
              "</div>"
            ]
          },
          "metadata": {},
          "execution_count": 2
        }
      ]
    },
    {
      "cell_type": "code",
      "metadata": {
        "id": "47tBsAG89pC7",
        "colab": {
          "base_uri": "https://localhost:8080/"
        },
        "outputId": "5e339b19-9b4f-4646-fd70-f7122da3c82e"
      },
      "source": [
        "df.shape"
      ],
      "execution_count": null,
      "outputs": [
        {
          "output_type": "execute_result",
          "data": {
            "text/plain": [
              "(19917, 45)"
            ]
          },
          "metadata": {},
          "execution_count": 3
        }
      ]
    },
    {
      "cell_type": "code",
      "metadata": {
        "id": "LdyvsgcblUNJ"
      },
      "source": [
        "X = df.drop('percent_helpful', axis=1)\n",
        "y  = df['percent_helpful']"
      ],
      "execution_count": null,
      "outputs": []
    },
    {
      "cell_type": "code",
      "metadata": {
        "id": "8oHhvHtMQ-hy"
      },
      "source": [
        "X_full_train, X_test, y_full_train, y_test = train_test_split(X, y, test_size=0.2, random_state=42)\n",
        "# X_train, X_val, y_train, y_val = train_test_split(X_full_train, y_full_train, test_size=0.25, random_state=42)"
      ],
      "execution_count": null,
      "outputs": []
    },
    {
      "cell_type": "code",
      "source": [
        "def create_pipeline():\n",
        "    imputer = SimpleImputer(strategy='median')\n",
        "\n",
        "    scaler = MinMaxScaler()\n",
        "\n",
        "    model = LinearRegression()\n",
        "\n",
        "    model = TransformedTargetRegressor(\n",
        "        regressor=model,\n",
        "        transformer=MinMaxScaler()\n",
        "    )\n",
        "\n",
        "    pipeline = Pipeline(\n",
        "        steps=[\n",
        "            ('imputer', imputer),\n",
        "            ('scaling', scaler),\n",
        "            ('model', model)\n",
        "        ]\n",
        "    )\n",
        "\n",
        "    return pipeline"
      ],
      "metadata": {
        "id": "PDGrB_-DsVP1"
      },
      "execution_count": null,
      "outputs": []
    },
    {
      "cell_type": "code",
      "source": [
        "search_space = {\n",
        "    'model__regressor__fit_intercept': [True, False]\n",
        "}"
      ],
      "metadata": {
        "id": "CVEV_IjWNLzV"
      },
      "execution_count": null,
      "outputs": []
    },
    {
      "cell_type": "code",
      "source": [
        "cv = KFold(n_splits=10, shuffle=True, random_state=42)\n",
        "\n",
        "searcher = GridSearchCV(\n",
        "    create_pipeline(),\n",
        "    search_space,\n",
        "    scoring='neg_mean_absolute_error',\n",
        "    n_jobs=-1,\n",
        "    cv=cv,\n",
        "    verbose=4\n",
        ")\n",
        "\n",
        "searcher.fit(X_full_train, y_full_train)"
      ],
      "metadata": {
        "id": "4oCIYE0LND1B",
        "colab": {
          "base_uri": "https://localhost:8080/"
        },
        "outputId": "34e1df3c-7aed-4476-c29a-b81f31503ca4"
      },
      "execution_count": null,
      "outputs": [
        {
          "output_type": "stream",
          "name": "stdout",
          "text": [
            "Fitting 10 folds for each of 2 candidates, totalling 20 fits\n"
          ]
        },
        {
          "output_type": "execute_result",
          "data": {
            "text/plain": [
              "GridSearchCV(cv=KFold(n_splits=10, random_state=42, shuffle=True),\n",
              "             estimator=Pipeline(steps=[('imputer',\n",
              "                                        SimpleImputer(strategy='median')),\n",
              "                                       ('scaling', MinMaxScaler()),\n",
              "                                       ('model',\n",
              "                                        TransformedTargetRegressor(regressor=LinearRegression(),\n",
              "                                                                   transformer=MinMaxScaler()))]),\n",
              "             n_jobs=-1,\n",
              "             param_grid={'model__regressor__fit_intercept': [True, False]},\n",
              "             scoring='neg_mean_absolute_error', verbose=4)"
            ]
          },
          "metadata": {},
          "execution_count": 8
        }
      ]
    },
    {
      "cell_type": "code",
      "source": [
        "searcher.best_score_"
      ],
      "metadata": {
        "id": "6ZViu-ubOGN3",
        "colab": {
          "base_uri": "https://localhost:8080/"
        },
        "outputId": "9e4f86b8-d0b4-4acd-885c-ae4e3c6ce374"
      },
      "execution_count": null,
      "outputs": [
        {
          "output_type": "execute_result",
          "data": {
            "text/plain": [
              "-5.542328675897256"
            ]
          },
          "metadata": {},
          "execution_count": 9
        }
      ]
    },
    {
      "cell_type": "code",
      "source": [
        "searcher.best_params_"
      ],
      "metadata": {
        "id": "lqSlHZ2wOHwS",
        "colab": {
          "base_uri": "https://localhost:8080/"
        },
        "outputId": "58590c35-ce69-4702-8c84-66a94b4be1e0"
      },
      "execution_count": null,
      "outputs": [
        {
          "output_type": "execute_result",
          "data": {
            "text/plain": [
              "{'model__regressor__fit_intercept': False}"
            ]
          },
          "metadata": {},
          "execution_count": 10
        }
      ]
    }
  ]
}