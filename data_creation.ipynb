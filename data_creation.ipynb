{
  "nbformat": 4,
  "nbformat_minor": 0,
  "metadata": {
    "colab": {
      "provenance": [],
      "collapsed_sections": [
        "w6iJzECh5HM5",
        "GavKaxuP5yog"
      ],
      "include_colab_link": true
    },
    "kernelspec": {
      "name": "python3",
      "display_name": "Python 3"
    },
    "language_info": {
      "name": "python"
    }
  },
  "cells": [
    {
      "cell_type": "markdown",
      "metadata": {
        "id": "view-in-github",
        "colab_type": "text"
      },
      "source": [
        "<a href=\"https://colab.research.google.com/github/vigilant-umbrella/automatic-quality-estimation/blob/main/data_creation.ipynb\" target=\"_parent\"><img src=\"https://colab.research.google.com/assets/colab-badge.svg\" alt=\"Open In Colab\"/></a>"
      ]
    },
    {
      "cell_type": "code",
      "metadata": {
        "id": "5gHm0Gk8p27V",
        "colab": {
          "base_uri": "https://localhost:8080/"
        },
        "outputId": "8fc6f8c4-08b6-4071-b776-82c96017933a"
      },
      "source": [
        "from google.colab import drive\n",
        "drive.mount('/content/drive')"
      ],
      "execution_count": null,
      "outputs": [
        {
          "output_type": "stream",
          "name": "stdout",
          "text": [
            "Mounted at /content/drive\n"
          ]
        }
      ]
    },
    {
      "cell_type": "code",
      "metadata": {
        "id": "Vsc15FoDrdT9",
        "colab": {
          "base_uri": "https://localhost:8080/"
        },
        "outputId": "70038bf5-ec03-4bb1-cda2-deb20685d712"
      },
      "source": [
        "%%shell\n",
        "pip install -q wikihowunofficialapi readability syntok"
      ],
      "execution_count": null,
      "outputs": [
        {
          "output_type": "stream",
          "name": "stdout",
          "text": [
            "  Building wheel for readability (setup.py) ... \u001b[?25l\u001b[?25hdone\n"
          ]
        },
        {
          "output_type": "execute_result",
          "data": {
            "text/plain": [
              ""
            ]
          },
          "metadata": {},
          "execution_count": 2
        }
      ]
    },
    {
      "cell_type": "code",
      "metadata": {
        "id": "0sKJK8rirqrm"
      },
      "source": [
        "import os\n",
        "import sys\n",
        "\n",
        "import pandas as pd\n",
        "import wikihowunofficialapi as wha\n",
        "\n",
        "import readability\n",
        "import syntok.segmenter as segmenter\n",
        "\n",
        "import numpy as np"
      ],
      "execution_count": null,
      "outputs": []
    },
    {
      "cell_type": "code",
      "metadata": {
        "id": "2OkxVNdOsPMa"
      },
      "source": [
        "os.chdir('./drive/My Drive/wikiHow')"
      ],
      "execution_count": null,
      "outputs": []
    },
    {
      "cell_type": "code",
      "metadata": {
        "id": "cX0Pg3OJr6he",
        "colab": {
          "base_uri": "https://localhost:8080/",
          "height": 224
        },
        "outputId": "3082a9b4-2ff8-4541-98fd-f9882582ff7a"
      },
      "source": [
        "if sys.version_info[1] >= 8:\n",
        "  data = pd.read_pickle('wikihow.pickle')\n",
        "  data.head()\n",
        "else:\n",
        "  ! pip install -q pickle5\n",
        "  import pickle5\n",
        "  with open('wikihow.pickle', 'rb') as f:\n",
        "    data = pickle5.load(f)\n",
        "\n",
        "data.head()"
      ],
      "execution_count": null,
      "outputs": [
        {
          "output_type": "stream",
          "name": "stdout",
          "text": [
            "\u001b[?25l\r\u001b[K     |█▎                              | 10 kB 26.3 MB/s eta 0:00:01\r\u001b[K     |██▋                             | 20 kB 8.8 MB/s eta 0:00:01\r\u001b[K     |███▉                            | 30 kB 7.5 MB/s eta 0:00:01\r\u001b[K     |█████▏                          | 40 kB 3.5 MB/s eta 0:00:01\r\u001b[K     |██████▍                         | 51 kB 3.5 MB/s eta 0:00:01\r\u001b[K     |███████▊                        | 61 kB 4.2 MB/s eta 0:00:01\r\u001b[K     |█████████                       | 71 kB 4.4 MB/s eta 0:00:01\r\u001b[K     |██████████▎                     | 81 kB 4.4 MB/s eta 0:00:01\r\u001b[K     |███████████▌                    | 92 kB 4.9 MB/s eta 0:00:01\r\u001b[K     |████████████▉                   | 102 kB 4.1 MB/s eta 0:00:01\r\u001b[K     |██████████████                  | 112 kB 4.1 MB/s eta 0:00:01\r\u001b[K     |███████████████▍                | 122 kB 4.1 MB/s eta 0:00:01\r\u001b[K     |████████████████▋               | 133 kB 4.1 MB/s eta 0:00:01\r\u001b[K     |██████████████████              | 143 kB 4.1 MB/s eta 0:00:01\r\u001b[K     |███████████████████▏            | 153 kB 4.1 MB/s eta 0:00:01\r\u001b[K     |████████████████████▌           | 163 kB 4.1 MB/s eta 0:00:01\r\u001b[K     |█████████████████████▊          | 174 kB 4.1 MB/s eta 0:00:01\r\u001b[K     |███████████████████████         | 184 kB 4.1 MB/s eta 0:00:01\r\u001b[K     |████████████████████████▎       | 194 kB 4.1 MB/s eta 0:00:01\r\u001b[K     |█████████████████████████▋      | 204 kB 4.1 MB/s eta 0:00:01\r\u001b[K     |██████████████████████████▉     | 215 kB 4.1 MB/s eta 0:00:01\r\u001b[K     |████████████████████████████▏   | 225 kB 4.1 MB/s eta 0:00:01\r\u001b[K     |█████████████████████████████▍  | 235 kB 4.1 MB/s eta 0:00:01\r\u001b[K     |██████████████████████████████▊ | 245 kB 4.1 MB/s eta 0:00:01\r\u001b[K     |████████████████████████████████| 256 kB 4.1 MB/s eta 0:00:01\r\u001b[K     |████████████████████████████████| 256 kB 4.1 MB/s \n",
            "\u001b[?25h"
          ]
        },
        {
          "output_type": "execute_result",
          "data": {
            "text/plain": [
              "                                              info\n",
              "0       How to Get Rid of Acne Scars on Your Chest\n",
              "1  How to Get a Copy of Your Approved I‐140 Notice\n",
              "2          How to Get Sweat Stains out of Clothing\n",
              "3   How to Recognize the Warning Signs of a Stroke\n",
              "4                       How to Manage a Restaurant"
            ],
            "text/html": [
              "\n",
              "  <div id=\"df-f1920205-6e76-4935-802f-448fb57d81d5\">\n",
              "    <div class=\"colab-df-container\">\n",
              "      <div>\n",
              "<style scoped>\n",
              "    .dataframe tbody tr th:only-of-type {\n",
              "        vertical-align: middle;\n",
              "    }\n",
              "\n",
              "    .dataframe tbody tr th {\n",
              "        vertical-align: top;\n",
              "    }\n",
              "\n",
              "    .dataframe thead th {\n",
              "        text-align: right;\n",
              "    }\n",
              "</style>\n",
              "<table border=\"1\" class=\"dataframe\">\n",
              "  <thead>\n",
              "    <tr style=\"text-align: right;\">\n",
              "      <th></th>\n",
              "      <th>info</th>\n",
              "    </tr>\n",
              "  </thead>\n",
              "  <tbody>\n",
              "    <tr>\n",
              "      <th>0</th>\n",
              "      <td>How to Get Rid of Acne Scars on Your Chest</td>\n",
              "    </tr>\n",
              "    <tr>\n",
              "      <th>1</th>\n",
              "      <td>How to Get a Copy of Your Approved I‐140 Notice</td>\n",
              "    </tr>\n",
              "    <tr>\n",
              "      <th>2</th>\n",
              "      <td>How to Get Sweat Stains out of Clothing</td>\n",
              "    </tr>\n",
              "    <tr>\n",
              "      <th>3</th>\n",
              "      <td>How to Recognize the Warning Signs of a Stroke</td>\n",
              "    </tr>\n",
              "    <tr>\n",
              "      <th>4</th>\n",
              "      <td>How to Manage a Restaurant</td>\n",
              "    </tr>\n",
              "  </tbody>\n",
              "</table>\n",
              "</div>\n",
              "      <button class=\"colab-df-convert\" onclick=\"convertToInteractive('df-f1920205-6e76-4935-802f-448fb57d81d5')\"\n",
              "              title=\"Convert this dataframe to an interactive table.\"\n",
              "              style=\"display:none;\">\n",
              "        \n",
              "  <svg xmlns=\"http://www.w3.org/2000/svg\" height=\"24px\"viewBox=\"0 0 24 24\"\n",
              "       width=\"24px\">\n",
              "    <path d=\"M0 0h24v24H0V0z\" fill=\"none\"/>\n",
              "    <path d=\"M18.56 5.44l.94 2.06.94-2.06 2.06-.94-2.06-.94-.94-2.06-.94 2.06-2.06.94zm-11 1L8.5 8.5l.94-2.06 2.06-.94-2.06-.94L8.5 2.5l-.94 2.06-2.06.94zm10 10l.94 2.06.94-2.06 2.06-.94-2.06-.94-.94-2.06-.94 2.06-2.06.94z\"/><path d=\"M17.41 7.96l-1.37-1.37c-.4-.4-.92-.59-1.43-.59-.52 0-1.04.2-1.43.59L10.3 9.45l-7.72 7.72c-.78.78-.78 2.05 0 2.83L4 21.41c.39.39.9.59 1.41.59.51 0 1.02-.2 1.41-.59l7.78-7.78 2.81-2.81c.8-.78.8-2.07 0-2.86zM5.41 20L4 18.59l7.72-7.72 1.47 1.35L5.41 20z\"/>\n",
              "  </svg>\n",
              "      </button>\n",
              "      \n",
              "  <style>\n",
              "    .colab-df-container {\n",
              "      display:flex;\n",
              "      flex-wrap:wrap;\n",
              "      gap: 12px;\n",
              "    }\n",
              "\n",
              "    .colab-df-convert {\n",
              "      background-color: #E8F0FE;\n",
              "      border: none;\n",
              "      border-radius: 50%;\n",
              "      cursor: pointer;\n",
              "      display: none;\n",
              "      fill: #1967D2;\n",
              "      height: 32px;\n",
              "      padding: 0 0 0 0;\n",
              "      width: 32px;\n",
              "    }\n",
              "\n",
              "    .colab-df-convert:hover {\n",
              "      background-color: #E2EBFA;\n",
              "      box-shadow: 0px 1px 2px rgba(60, 64, 67, 0.3), 0px 1px 3px 1px rgba(60, 64, 67, 0.15);\n",
              "      fill: #174EA6;\n",
              "    }\n",
              "\n",
              "    [theme=dark] .colab-df-convert {\n",
              "      background-color: #3B4455;\n",
              "      fill: #D2E3FC;\n",
              "    }\n",
              "\n",
              "    [theme=dark] .colab-df-convert:hover {\n",
              "      background-color: #434B5C;\n",
              "      box-shadow: 0px 1px 3px 1px rgba(0, 0, 0, 0.15);\n",
              "      filter: drop-shadow(0px 1px 2px rgba(0, 0, 0, 0.3));\n",
              "      fill: #FFFFFF;\n",
              "    }\n",
              "  </style>\n",
              "\n",
              "      <script>\n",
              "        const buttonEl =\n",
              "          document.querySelector('#df-f1920205-6e76-4935-802f-448fb57d81d5 button.colab-df-convert');\n",
              "        buttonEl.style.display =\n",
              "          google.colab.kernel.accessAllowed ? 'block' : 'none';\n",
              "\n",
              "        async function convertToInteractive(key) {\n",
              "          const element = document.querySelector('#df-f1920205-6e76-4935-802f-448fb57d81d5');\n",
              "          const dataTable =\n",
              "            await google.colab.kernel.invokeFunction('convertToInteractive',\n",
              "                                                     [key], {});\n",
              "          if (!dataTable) return;\n",
              "\n",
              "          const docLinkHtml = 'Like what you see? Visit the ' +\n",
              "            '<a target=\"_blank\" href=https://colab.research.google.com/notebooks/data_table.ipynb>data table notebook</a>'\n",
              "            + ' to learn more about interactive tables.';\n",
              "          element.innerHTML = '';\n",
              "          dataTable['output_type'] = 'display_data';\n",
              "          await google.colab.output.renderOutput(dataTable, element);\n",
              "          const docLink = document.createElement('div');\n",
              "          docLink.innerHTML = docLinkHtml;\n",
              "          element.appendChild(docLink);\n",
              "        }\n",
              "      </script>\n",
              "    </div>\n",
              "  </div>\n",
              "  "
            ]
          },
          "metadata": {},
          "execution_count": 5
        }
      ]
    },
    {
      "cell_type": "markdown",
      "metadata": {
        "id": "k8e9KIwRUdF9"
      },
      "source": [
        "# Utils"
      ]
    },
    {
      "cell_type": "code",
      "metadata": {
        "id": "iG-OlT1XUchO"
      },
      "source": [
        "def tokenize(text):\n",
        "    \"\"\"Tokenizing and creating excerpts in the format suggested in the README of readability project.\"\"\"\n",
        "    return '\\n\\n'.join(\n",
        "        '\\n'.join(\n",
        "            ' '.join(token.value for token in sentence)\n",
        "            for sentence in paragraph)\n",
        "        for paragraph in segmenter.analyze(text))"
      ],
      "execution_count": null,
      "outputs": []
    },
    {
      "cell_type": "code",
      "metadata": {
        "id": "LWcm44nWadgO"
      },
      "source": [
        "def create_readability_object_full_text(article):\n",
        "    text = article.title\n",
        "    text += '\\n\\n' + article.intro\n",
        "    for method in article.methods:\n",
        "        text += '\\n\\n' + method.title\n",
        "        for step in method.steps:\n",
        "            text += '\\n\\n' + step.title\n",
        "            text += '\\n\\n' + step.description\n",
        "\n",
        "    return readability.getmeasures(tokenize(text), lang='en')"
      ],
      "execution_count": null,
      "outputs": []
    },
    {
      "cell_type": "code",
      "metadata": {
        "id": "mMqPxP3h5CdU"
      },
      "source": [
        "def create_method_data(article):\n",
        "    method_data = []\n",
        "    for method in article.methods:\n",
        "        text = method.title\n",
        "        for step in method.steps:\n",
        "            text += '\\n\\n' + step.title\n",
        "            text += '\\n\\n' + step.description\n",
        "\n",
        "        method_data.append(readability.getmeasures(tokenize(text), lang='en'))\n",
        "\n",
        "    return method_data"
      ],
      "execution_count": null,
      "outputs": []
    },
    {
      "cell_type": "code",
      "metadata": {
        "id": "ko90BBkDb9iJ"
      },
      "source": [
        "text_feature_data = data.apply(lambda row: create_readability_object_full_text(row.info), axis=1)\n",
        "method_data = data.apply(lambda row: create_method_data(row.info), axis=1)"
      ],
      "execution_count": null,
      "outputs": []
    },
    {
      "cell_type": "markdown",
      "metadata": {
        "id": "OmTWa3xwlVZc"
      },
      "source": [
        "# Structure Features"
      ]
    },
    {
      "cell_type": "code",
      "metadata": {
        "id": "caX8OAZWlYqg"
      },
      "source": [
        "def method_count(obj):\n",
        "    \"\"\"The number of methods.\"\"\"\n",
        "\n",
        "    return obj.n_methods"
      ],
      "execution_count": null,
      "outputs": []
    },
    {
      "cell_type": "code",
      "metadata": {
        "id": "jTULc3YPlvde"
      },
      "source": [
        "def mean_method_size(obj):\n",
        "    \"\"\"The ratio between characters in methods to the method count.\"\"\"\n",
        "\n",
        "    return sum(method['sentence info']['characters'] for method in obj)/len(obj)"
      ],
      "execution_count": null,
      "outputs": []
    },
    {
      "cell_type": "code",
      "metadata": {
        "id": "aLa4t8jzl3fz"
      },
      "source": [
        "def mean_paragraph_size(obj):\n",
        "    \"\"\"The ratio between characters in paragraphs to the paragraph count.\"\"\"\n",
        "\n",
        "    text = obj.intro\n",
        "    num_para = 1\n",
        "    for method in obj.methods:\n",
        "        for step in method.steps:\n",
        "            text += '\\n\\n' + step.description\n",
        "            num_para += 1\n",
        "\n",
        "    return readability.getmeasures(tokenize(text), lang='en')['sentence info']['characters']/num_para"
      ],
      "execution_count": null,
      "outputs": []
    },
    {
      "cell_type": "code",
      "metadata": {
        "id": "UnSy4q3ZmWt0"
      },
      "source": [
        "def size_largest_method(obj):\n",
        "    \"\"\"The number of characters in the largest method.\"\"\"\n",
        "\n",
        "    return max(method['sentence info']['characters'] for method in obj)"
      ],
      "execution_count": null,
      "outputs": []
    },
    {
      "cell_type": "code",
      "metadata": {
        "id": "KTK47fBzmkLM"
      },
      "source": [
        "def size_shortest_method(obj):\n",
        "    \"\"\"The number of characters in the shortes method.\"\"\"\n",
        "\n",
        "    return min(method['sentence info']['characters'] for method in obj)"
      ],
      "execution_count": null,
      "outputs": []
    },
    {
      "cell_type": "code",
      "metadata": {
        "id": "JjDVnicI62QB"
      },
      "source": [
        "def std_method_size(obj):\n",
        "    \"\"\"The standard deviation of number of characters in methods.\"\"\"\n",
        "\n",
        "    return np.std([method['sentence info']['characters'] for method in obj])"
      ],
      "execution_count": null,
      "outputs": []
    },
    {
      "cell_type": "code",
      "metadata": {
        "id": "Zd1whZ867Kxw"
      },
      "source": [
        "def step_count(obj):\n",
        "    \"\"\"The number of steps.\"\"\"\n",
        "\n",
        "    num_steps = 0\n",
        "    for method in obj.methods:\n",
        "        for step in method.steps:\n",
        "            num_steps += 1\n",
        "\n",
        "    return num_steps"
      ],
      "execution_count": null,
      "outputs": []
    },
    {
      "cell_type": "code",
      "metadata": {
        "id": "7dJAatek71zG"
      },
      "source": [
        "def introduction_size(obj):\n",
        "    \"\"\"The number of characters in introduction.\"\"\"\n",
        "\n",
        "    text = obj.intro\n",
        "\n",
        "    return readability.getmeasures(tokenize(text), lang='en')['sentence info']['characters']"
      ],
      "execution_count": null,
      "outputs": []
    },
    {
      "cell_type": "code",
      "metadata": {
        "id": "vTWV_QFV783r"
      },
      "source": [
        "def summary_size(obj):\n",
        "    \"\"\"The number of characters in summary.\"\"\"\n",
        "\n",
        "    text = obj.summary\n",
        "\n",
        "    if text is None:\n",
        "        return 0\n",
        "    return readability.getmeasures(tokenize(text), lang='en')['sentence info']['characters']"
      ],
      "execution_count": null,
      "outputs": []
    },
    {
      "cell_type": "code",
      "metadata": {
        "id": "mcQxoEUE8Ayx"
      },
      "source": [
        "def references_count(obj):\n",
        "    \"\"\"The number of references.\"\"\"\n",
        "\n",
        "    return obj.references"
      ],
      "execution_count": null,
      "outputs": []
    },
    {
      "cell_type": "code",
      "metadata": {
        "id": "g0IhJGWeLosC"
      },
      "source": [
        "def references_count_per_text_length(obj):\n",
        "    \"\"\"The number of references divided by the character count.\"\"\"\n",
        "\n",
        "    return obj.references / obj['sentence info']['characters']"
      ],
      "execution_count": null,
      "outputs": []
    },
    {
      "cell_type": "code",
      "metadata": {
        "id": "eIbcdEMsL3Np"
      },
      "source": [
        "def references_count_per_method(obj):\n",
        "    \"\"\"The number of references divided by the method count.\"\"\"\n",
        "\n",
        "    return obj.references / obj.n_methods"
      ],
      "execution_count": null,
      "outputs": []
    },
    {
      "cell_type": "code",
      "metadata": {
        "id": "NEZMxCJlaqZf"
      },
      "source": [
        "def image_count(obj):\n",
        "    \"\"\"The number of images in a article.\"\"\"\n",
        "    \n",
        "    images = 0\n",
        "    for method in obj.methods:\n",
        "        for step in method.steps:\n",
        "            if step.picture is not None:\n",
        "                images += 1\n",
        "\n",
        "    return images"
      ],
      "execution_count": null,
      "outputs": []
    },
    {
      "cell_type": "markdown",
      "metadata": {
        "id": "3NwfnmqIUGFs"
      },
      "source": [
        "# Stability Features"
      ]
    },
    {
      "cell_type": "code",
      "metadata": {
        "id": "MsE8CtDjUJwP"
      },
      "source": [
        "def num_votes(obj):\n",
        "    \"\"\"The number of people who rated the article.\"\"\"\n",
        "\n",
        "    return obj.num_votes"
      ],
      "execution_count": null,
      "outputs": []
    },
    {
      "cell_type": "code",
      "metadata": {
        "id": "CJzG96d5VC8J"
      },
      "source": [
        "def is_expert(obj):\n",
        "    \"\"\"If the article is written by an expert author.\"\"\"\n",
        "\n",
        "    return obj.is_expert"
      ],
      "execution_count": null,
      "outputs": []
    },
    {
      "cell_type": "code",
      "metadata": {
        "id": "1q1PInijVqAB"
      },
      "source": [
        "def views(obj):\n",
        "    \"\"\"The number of views of the article.\"\"\"\n",
        "\n",
        "    return obj.views"
      ],
      "execution_count": null,
      "outputs": []
    },
    {
      "cell_type": "code",
      "metadata": {
        "id": "i37zUCP2V8lA"
      },
      "source": [
        "def co_authors(obj):\n",
        "    \"\"\"The number of co-authors of the article.\"\"\"\n",
        "\n",
        "    return obj.co_authors"
      ],
      "execution_count": null,
      "outputs": []
    },
    {
      "cell_type": "code",
      "metadata": {
        "id": "p6ESt-MxWJXr"
      },
      "source": [
        "def warnings(obj):\n",
        "    \"\"\"The number of warning in the article.\"\"\"\n",
        "\n",
        "    return len(obj.warnings)"
      ],
      "execution_count": null,
      "outputs": []
    },
    {
      "cell_type": "code",
      "metadata": {
        "id": "WjbLr0rdWgbQ"
      },
      "source": [
        "def tips(obj):\n",
        "    \"\"\"The number of tips in the article.\"\"\"\n",
        "\n",
        "    return len(obj.tips)"
      ],
      "execution_count": null,
      "outputs": []
    },
    {
      "cell_type": "markdown",
      "metadata": {
        "id": "w6iJzECh5HM5"
      },
      "source": [
        "# Style Features"
      ]
    },
    {
      "cell_type": "code",
      "metadata": {
        "id": "VAy6crY2TI_w"
      },
      "source": [
        "def to_be_verb(obj):\n",
        "    \"\"\"The ratio between number of \"to be\" verb and number of words.\"\"\"\n",
        "    \n",
        "    return obj['word usage']['tobeverb']"
      ],
      "execution_count": null,
      "outputs": []
    },
    {
      "cell_type": "code",
      "metadata": {
        "id": "riuF-4S_UONj"
      },
      "source": [
        "def aux_verb(obj):\n",
        "    \"\"\"The number of auxiliary verbs.\"\"\"\n",
        "\n",
        "    return obj['word usage']['auxverb']"
      ],
      "execution_count": null,
      "outputs": []
    },
    {
      "cell_type": "code",
      "metadata": {
        "id": "W3LnqfJ5UOy0"
      },
      "source": [
        "def conjunction(obj):\n",
        "    \"\"\"The number of conjunctions.\"\"\"\n",
        "\n",
        "    return obj['word usage']['conjunction']"
      ],
      "execution_count": null,
      "outputs": []
    },
    {
      "cell_type": "code",
      "metadata": {
        "id": "SHx9m_XjUXE_"
      },
      "source": [
        "def pronoun(obj):\n",
        "    \"\"\"The number of pronouns.\"\"\"\n",
        "\n",
        "    return obj['word usage']['pronoun']"
      ],
      "execution_count": null,
      "outputs": []
    },
    {
      "cell_type": "code",
      "metadata": {
        "id": "Pa-iH8XdUZre"
      },
      "source": [
        "def preposition(obj):\n",
        "    \"\"\"The number of prepositions.\"\"\"\n",
        "\n",
        "    return obj['word usage']['preposition']"
      ],
      "execution_count": null,
      "outputs": []
    },
    {
      "cell_type": "code",
      "metadata": {
        "id": "nEEMSqZIUZ1g"
      },
      "source": [
        "def nominalization(obj):\n",
        "    \"\"\"The number of nominalizations.\"\"\"\n",
        "\n",
        "    return obj['word usage']['nominalization']"
      ],
      "execution_count": null,
      "outputs": []
    },
    {
      "cell_type": "code",
      "metadata": {
        "id": "m_PckgWdUZ-y"
      },
      "source": [
        "def sentence_beginning_pronoun(obj):\n",
        "    \"\"\"The number of sentences that start with a pronoun.\"\"\"\n",
        "\n",
        "    return obj['sentence beginnings']['pronoun']"
      ],
      "execution_count": null,
      "outputs": []
    },
    {
      "cell_type": "code",
      "metadata": {
        "id": "oj-ZEoWzUaJx"
      },
      "source": [
        "def sentence_beginning_interrogative(obj):\n",
        "    \"\"\"The number of sentences that start with an interrogative.\"\"\"\n",
        "\n",
        "    return obj['sentence beginnings']['interrogative']"
      ],
      "execution_count": null,
      "outputs": []
    },
    {
      "cell_type": "code",
      "metadata": {
        "id": "sQxBrrcxUaUJ"
      },
      "source": [
        "def sentence_beginning_article(obj):\n",
        "    \"\"\"The number of sentences that start with an article.\"\"\"\n",
        "\n",
        "    return obj['sentence beginnings']['article']"
      ],
      "execution_count": null,
      "outputs": []
    },
    {
      "cell_type": "code",
      "metadata": {
        "id": "-ewgZsNu5QAE"
      },
      "source": [
        "def sentence_beginning_subordination(obj):\n",
        "    \"\"\"The number of sentences that start with a subordination.\"\"\"\n",
        "\n",
        "    return obj['sentence beginnings']['subordination']"
      ],
      "execution_count": null,
      "outputs": []
    },
    {
      "cell_type": "code",
      "metadata": {
        "id": "HZeFAsml5h_6"
      },
      "source": [
        "def sentence_beginning_conjunction(obj):\n",
        "    \"\"\"The number of sentences that start with a conjunction.\"\"\"\n",
        "\n",
        "    return obj['sentence beginnings']['conjunction']"
      ],
      "execution_count": null,
      "outputs": []
    },
    {
      "cell_type": "code",
      "metadata": {
        "id": "5cxykBer5iIx"
      },
      "source": [
        "def sentence_beginning_preposition(obj):\n",
        "    \"\"\"The number of sentences that start with a preposition.\"\"\"\n",
        "\n",
        "    return obj['sentence beginnings']['preposition']"
      ],
      "execution_count": null,
      "outputs": []
    },
    {
      "cell_type": "markdown",
      "metadata": {
        "id": "GavKaxuP5yog"
      },
      "source": [
        "# Readability Features"
      ]
    },
    {
      "cell_type": "code",
      "metadata": {
        "id": "qn57rjBu5iK7"
      },
      "source": [
        "def Kincaid(obj):\n",
        "    \"\"\"Indicate the difficulty in understanding a passage in english.\"\"\"\n",
        "\n",
        "    return obj['readability grades']['Kincaid']"
      ],
      "execution_count": null,
      "outputs": []
    },
    {
      "cell_type": "code",
      "metadata": {
        "id": "0pE9RtS45iNV"
      },
      "source": [
        "def ARI(obj):\n",
        "    \"\"\"The Automated Readability Index (ARI) is a readability test designed to assess the understandability of a text.\"\"\"\n",
        "\n",
        "    return obj['readability grades']['ARI']"
      ],
      "execution_count": null,
      "outputs": []
    },
    {
      "cell_type": "code",
      "metadata": {
        "id": "XwzJvLqp5iPQ"
      },
      "source": [
        "def Coleman_Liau(obj):\n",
        "    \"\"\"The Coleman–Liau index is a readability test to gauge the understandability of a text.\"\"\"\n",
        "\n",
        "    return obj['readability grades']['Coleman-Liau']"
      ],
      "execution_count": null,
      "outputs": []
    },
    {
      "cell_type": "code",
      "metadata": {
        "id": "oLQ8lQw15iRO"
      },
      "source": [
        "def FleschReadingEase(obj):\n",
        "    \"\"\"Measures the readibility of a text.\"\"\"\n",
        "\n",
        "    return obj['readability grades']['FleschReadingEase']"
      ],
      "execution_count": null,
      "outputs": []
    },
    {
      "cell_type": "code",
      "metadata": {
        "id": "352jmbRU5ik_"
      },
      "source": [
        "def GunningFogIndex(obj):\n",
        "    \"\"\"Gives the number of years of education that a reader hypothetically needs to understand the paragraph or text.\"\"\"\n",
        "\n",
        "    return obj['readability grades']['GunningFogIndex']"
      ],
      "execution_count": null,
      "outputs": []
    },
    {
      "cell_type": "code",
      "metadata": {
        "id": "j7eAHJfe5inc"
      },
      "source": [
        "def LIX(obj):\n",
        "    \"\"\"Readability measure to reveal the difficulty of reading a foreign text\"\"\"\n",
        "\n",
        "    return obj['readability grades']['LIX']"
      ],
      "execution_count": null,
      "outputs": []
    },
    {
      "cell_type": "code",
      "metadata": {
        "id": "TPL7UaeD6I2Z"
      },
      "source": [
        "def SMOGIndex(obj):\n",
        "    \"\"\"Measures how many years of education the average person needs to have to understand a text.\"\"\"\n",
        "\n",
        "    return obj['readability grades']['SMOGIndex']"
      ],
      "execution_count": null,
      "outputs": []
    },
    {
      "cell_type": "code",
      "metadata": {
        "id": "0nruKsry6I48"
      },
      "source": [
        "def RIX(obj):\n",
        "    \"\"\"The ratio between characters in paragraphs to the paragraph count.\"\"\"\n",
        "\n",
        "    return obj['readability grades']['RIX']"
      ],
      "execution_count": null,
      "outputs": []
    },
    {
      "cell_type": "code",
      "metadata": {
        "id": "aGiketgK6I76"
      },
      "source": [
        "def DaleChallIndex(obj):\n",
        "    \"\"\"It is a readability test that provides a numeric gauge of the comprehension difficulty that readers come upon when reading a text.\"\"\"\n",
        "\n",
        "    return obj['readability grades']['DaleChallIndex']"
      ],
      "execution_count": null,
      "outputs": []
    },
    {
      "cell_type": "markdown",
      "metadata": {
        "id": "s5-ghlFwkIFr"
      },
      "source": [
        "# Length Features"
      ]
    },
    {
      "cell_type": "code",
      "metadata": {
        "id": "NwFWI6nfsF28"
      },
      "source": [
        "def character_count(obj):\n",
        "    \"\"\"The number of characters in text.\"\"\"\n",
        "    \n",
        "    return obj['sentence info']['characters']"
      ],
      "execution_count": null,
      "outputs": []
    },
    {
      "cell_type": "code",
      "metadata": {
        "id": "JJdsqFjGkQHf"
      },
      "source": [
        "def word_count(obj):\n",
        "    \"\"\"The number of words in the text.\"\"\"\n",
        "    \n",
        "    return obj['sentence info']['words']"
      ],
      "execution_count": null,
      "outputs": []
    },
    {
      "cell_type": "markdown",
      "metadata": {
        "id": "azgxGrlfnMzs"
      },
      "source": [
        "# Target"
      ]
    },
    {
      "cell_type": "code",
      "metadata": {
        "id": "DcSmvwUsfVce"
      },
      "source": [
        "def percent_helpful(obj):\n",
        "    \"\"\"Percent of people which found the article to be helpful.\"\"\"\n",
        "\n",
        "    return obj.percent_helpful"
      ],
      "execution_count": null,
      "outputs": []
    },
    {
      "cell_type": "markdown",
      "metadata": {
        "id": "cw_qUrdMvUbu"
      },
      "source": [
        "# Creating Features"
      ]
    },
    {
      "cell_type": "code",
      "metadata": {
        "id": "m-enxqmmsnwE"
      },
      "source": [
        "final = pd.DataFrame()\n",
        "\n",
        "# Length Features\n",
        "final['character_count'] = text_feature_data.apply(character_count)\n",
        "final['word_count'] = text_feature_data.apply(word_count)\n",
        "\n",
        "# Structure Features\n",
        "final['method_count'] = data.apply(lambda row: method_count(row.info), axis=1)\n",
        "final['mean_method_size'] = method_data.apply(mean_method_size)\n",
        "final['mean_paragraph_size'] = data.apply(lambda row: mean_paragraph_size(row.info), axis=1)\n",
        "final['size_largest_method'] = method_data.apply(size_largest_method)\n",
        "final['size_shortest_method'] = method_data.apply(size_shortest_method)\n",
        "final['std_method_size'] = method_data.apply(std_method_size)\n",
        "final['step_count'] = data.apply(lambda row: step_count(row.info), axis=1)\n",
        "final['mean_steps_per_method'] = final['step_count']/final['method_count']\n",
        "final['introduction_size'] = data.apply(lambda row: introduction_size(row.info), axis=1)\n",
        "final['summary_size'] = data.apply(lambda row: summary_size(row.info), axis=1)\n",
        "final['references_count'] = data.apply(lambda row: references_count(row.info), axis=1)\n",
        "final['references_count_per_text_length'] = final['references_count']/final['character_count']\n",
        "final['references_count_per_method'] = final['references_count']/final['method_count']\n",
        "final['image_count'] = data.apply(lambda row: image_count(row.info), axis=1)\n",
        "final['image_count_per_method'] = final['image_count'] / final['method_count']\n",
        "\n",
        "# Stability Features\n",
        "final['num_votes'] = data.apply(lambda row: num_votes(row.info), axis=1)\n",
        "final['is_expert'] = data.apply(lambda row: is_expert(row.info), axis=1)\n",
        "final['views'] = data.apply(lambda row: views(row.info), axis=1)\n",
        "final['co_authors'] = data.apply(lambda row: co_authors(row.info), axis=1)\n",
        "final['warnings'] = data.apply(lambda row: warnings(row.info), axis=1)\n",
        "final['tips'] = data.apply(lambda row: tips(row.info), axis=1)\n",
        "\n",
        "# Style Features\n",
        "final['to_be_verb'] = text_feature_data.apply(to_be_verb)\n",
        "final['aux_verb'] = text_feature_data.apply(aux_verb)\n",
        "final['conjunction'] = text_feature_data.apply(conjunction)\n",
        "final['pronoun'] = text_feature_data.apply(pronoun)\n",
        "final['preposition'] = text_feature_data.apply(preposition)\n",
        "final['nominalization'] = text_feature_data.apply(nominalization)\n",
        "final['sentence_beginning_pronoun'] = text_feature_data.apply(sentence_beginning_pronoun)\n",
        "final['sentence_beginning_interrogative'] = text_feature_data.apply(sentence_beginning_interrogative)\n",
        "final['sentence_beginning_article'] = text_feature_data.apply(sentence_beginning_article)\n",
        "final['sentence_beginning_subordination'] = text_feature_data.apply(sentence_beginning_subordination)\n",
        "final['sentence_beginning_conjunction'] = text_feature_data.apply(sentence_beginning_conjunction)\n",
        "final['sentence_beginning_preposition'] = text_feature_data.apply(sentence_beginning_preposition)\n",
        "\n",
        "# Readability Features\n",
        "final['Kincaid'] = text_feature_data.apply(Kincaid)\n",
        "final['ARI'] = text_feature_data.apply(ARI)\n",
        "final['Coleman_Liau'] = text_feature_data.apply(Coleman_Liau)\n",
        "final['FleschReadingEase'] = text_feature_data.apply(FleschReadingEase)\n",
        "final['GunningFogIndex'] = text_feature_data.apply(GunningFogIndex)\n",
        "final['LIX'] = text_feature_data.apply(LIX)\n",
        "final['SMOGIndex'] = text_feature_data.apply(SMOGIndex)\n",
        "final['RIX'] = text_feature_data.apply(RIX)\n",
        "final['DaleChallIndex'] = text_feature_data.apply(DaleChallIndex)\n",
        "\n",
        "# Target\n",
        "final['percent_helpful'] = data.apply(lambda row: percent_helpful(row.info), axis=1)"
      ],
      "execution_count": null,
      "outputs": []
    },
    {
      "cell_type": "code",
      "metadata": {
        "id": "VRv1vn8UttJW",
        "colab": {
          "base_uri": "https://localhost:8080/",
          "height": 300
        },
        "outputId": "f262bad7-db26-4cf7-d36c-129bd214de0d"
      },
      "source": [
        "final.head()"
      ],
      "execution_count": null,
      "outputs": [
        {
          "output_type": "execute_result",
          "data": {
            "text/plain": [
              "   character_count  word_count  method_count  mean_method_size  \\\n",
              "0             7107        1508             2       3357.500000   \n",
              "1             5180        1176             2       2419.500000   \n",
              "2             3822         902             3       1114.333333   \n",
              "3            11614        2429             3       3604.333333   \n",
              "4             9633        2004             4       2310.500000   \n",
              "\n",
              "   mean_paragraph_size  size_largest_method  size_shortest_method  \\\n",
              "0           379.823529                 4321                  2394   \n",
              "1           317.000000                 3171                  1668   \n",
              "2           263.333333                 1521                   881   \n",
              "3           393.111111                 4148                  2832   \n",
              "4           535.411765                 2753                  1922   \n",
              "\n",
              "   std_method_size  step_count  mean_steps_per_method  ...   Kincaid  \\\n",
              "0       963.500000          16               8.000000  ...  7.523760   \n",
              "1       751.500000          14               7.000000  ...  4.951055   \n",
              "2       288.598144          11               3.666667  ...  6.020412   \n",
              "3       561.058721          26               8.666667  ...  7.798307   \n",
              "4       329.196370          16               4.000000  ...  8.716429   \n",
              "\n",
              "        ARI  Coleman_Liau  FleschReadingEase  GunningFogIndex        LIX  \\\n",
              "0  8.159750      9.908877          67.453457        10.820887  36.866542   \n",
              "1  5.505902      7.708411          81.614246         8.897157  33.807519   \n",
              "2  6.727450      7.309495          81.109399         9.797251  31.810200   \n",
              "3  8.728719     10.376311          66.362137        11.577962  38.743177   \n",
              "4  9.423549     10.661749          61.827048        13.316999  42.773535   \n",
              "\n",
              "   SMOGIndex       RIX  DaleChallIndex  percent_helpful  \n",
              "0  10.376433  3.264706       10.086871               78  \n",
              "1   9.052403  2.652632        9.111023               99  \n",
              "2   9.310165  2.527273        8.038576               88  \n",
              "3  10.914639  3.584906        9.965255               82  \n",
              "4  12.116729  4.327869        9.123631              100  \n",
              "\n",
              "[5 rows x 45 columns]"
            ],
            "text/html": [
              "\n",
              "  <div id=\"df-5e44597a-7091-4c25-8a77-15d03e419be1\">\n",
              "    <div class=\"colab-df-container\">\n",
              "      <div>\n",
              "<style scoped>\n",
              "    .dataframe tbody tr th:only-of-type {\n",
              "        vertical-align: middle;\n",
              "    }\n",
              "\n",
              "    .dataframe tbody tr th {\n",
              "        vertical-align: top;\n",
              "    }\n",
              "\n",
              "    .dataframe thead th {\n",
              "        text-align: right;\n",
              "    }\n",
              "</style>\n",
              "<table border=\"1\" class=\"dataframe\">\n",
              "  <thead>\n",
              "    <tr style=\"text-align: right;\">\n",
              "      <th></th>\n",
              "      <th>character_count</th>\n",
              "      <th>word_count</th>\n",
              "      <th>method_count</th>\n",
              "      <th>mean_method_size</th>\n",
              "      <th>mean_paragraph_size</th>\n",
              "      <th>size_largest_method</th>\n",
              "      <th>size_shortest_method</th>\n",
              "      <th>std_method_size</th>\n",
              "      <th>step_count</th>\n",
              "      <th>mean_steps_per_method</th>\n",
              "      <th>...</th>\n",
              "      <th>Kincaid</th>\n",
              "      <th>ARI</th>\n",
              "      <th>Coleman_Liau</th>\n",
              "      <th>FleschReadingEase</th>\n",
              "      <th>GunningFogIndex</th>\n",
              "      <th>LIX</th>\n",
              "      <th>SMOGIndex</th>\n",
              "      <th>RIX</th>\n",
              "      <th>DaleChallIndex</th>\n",
              "      <th>percent_helpful</th>\n",
              "    </tr>\n",
              "  </thead>\n",
              "  <tbody>\n",
              "    <tr>\n",
              "      <th>0</th>\n",
              "      <td>7107</td>\n",
              "      <td>1508</td>\n",
              "      <td>2</td>\n",
              "      <td>3357.500000</td>\n",
              "      <td>379.823529</td>\n",
              "      <td>4321</td>\n",
              "      <td>2394</td>\n",
              "      <td>963.500000</td>\n",
              "      <td>16</td>\n",
              "      <td>8.000000</td>\n",
              "      <td>...</td>\n",
              "      <td>7.523760</td>\n",
              "      <td>8.159750</td>\n",
              "      <td>9.908877</td>\n",
              "      <td>67.453457</td>\n",
              "      <td>10.820887</td>\n",
              "      <td>36.866542</td>\n",
              "      <td>10.376433</td>\n",
              "      <td>3.264706</td>\n",
              "      <td>10.086871</td>\n",
              "      <td>78</td>\n",
              "    </tr>\n",
              "    <tr>\n",
              "      <th>1</th>\n",
              "      <td>5180</td>\n",
              "      <td>1176</td>\n",
              "      <td>2</td>\n",
              "      <td>2419.500000</td>\n",
              "      <td>317.000000</td>\n",
              "      <td>3171</td>\n",
              "      <td>1668</td>\n",
              "      <td>751.500000</td>\n",
              "      <td>14</td>\n",
              "      <td>7.000000</td>\n",
              "      <td>...</td>\n",
              "      <td>4.951055</td>\n",
              "      <td>5.505902</td>\n",
              "      <td>7.708411</td>\n",
              "      <td>81.614246</td>\n",
              "      <td>8.897157</td>\n",
              "      <td>33.807519</td>\n",
              "      <td>9.052403</td>\n",
              "      <td>2.652632</td>\n",
              "      <td>9.111023</td>\n",
              "      <td>99</td>\n",
              "    </tr>\n",
              "    <tr>\n",
              "      <th>2</th>\n",
              "      <td>3822</td>\n",
              "      <td>902</td>\n",
              "      <td>3</td>\n",
              "      <td>1114.333333</td>\n",
              "      <td>263.333333</td>\n",
              "      <td>1521</td>\n",
              "      <td>881</td>\n",
              "      <td>288.598144</td>\n",
              "      <td>11</td>\n",
              "      <td>3.666667</td>\n",
              "      <td>...</td>\n",
              "      <td>6.020412</td>\n",
              "      <td>6.727450</td>\n",
              "      <td>7.309495</td>\n",
              "      <td>81.109399</td>\n",
              "      <td>9.797251</td>\n",
              "      <td>31.810200</td>\n",
              "      <td>9.310165</td>\n",
              "      <td>2.527273</td>\n",
              "      <td>8.038576</td>\n",
              "      <td>88</td>\n",
              "    </tr>\n",
              "    <tr>\n",
              "      <th>3</th>\n",
              "      <td>11614</td>\n",
              "      <td>2429</td>\n",
              "      <td>3</td>\n",
              "      <td>3604.333333</td>\n",
              "      <td>393.111111</td>\n",
              "      <td>4148</td>\n",
              "      <td>2832</td>\n",
              "      <td>561.058721</td>\n",
              "      <td>26</td>\n",
              "      <td>8.666667</td>\n",
              "      <td>...</td>\n",
              "      <td>7.798307</td>\n",
              "      <td>8.728719</td>\n",
              "      <td>10.376311</td>\n",
              "      <td>66.362137</td>\n",
              "      <td>11.577962</td>\n",
              "      <td>38.743177</td>\n",
              "      <td>10.914639</td>\n",
              "      <td>3.584906</td>\n",
              "      <td>9.965255</td>\n",
              "      <td>82</td>\n",
              "    </tr>\n",
              "    <tr>\n",
              "      <th>4</th>\n",
              "      <td>9633</td>\n",
              "      <td>2004</td>\n",
              "      <td>4</td>\n",
              "      <td>2310.500000</td>\n",
              "      <td>535.411765</td>\n",
              "      <td>2753</td>\n",
              "      <td>1922</td>\n",
              "      <td>329.196370</td>\n",
              "      <td>16</td>\n",
              "      <td>4.000000</td>\n",
              "      <td>...</td>\n",
              "      <td>8.716429</td>\n",
              "      <td>9.423549</td>\n",
              "      <td>10.661749</td>\n",
              "      <td>61.827048</td>\n",
              "      <td>13.316999</td>\n",
              "      <td>42.773535</td>\n",
              "      <td>12.116729</td>\n",
              "      <td>4.327869</td>\n",
              "      <td>9.123631</td>\n",
              "      <td>100</td>\n",
              "    </tr>\n",
              "  </tbody>\n",
              "</table>\n",
              "<p>5 rows × 45 columns</p>\n",
              "</div>\n",
              "      <button class=\"colab-df-convert\" onclick=\"convertToInteractive('df-5e44597a-7091-4c25-8a77-15d03e419be1')\"\n",
              "              title=\"Convert this dataframe to an interactive table.\"\n",
              "              style=\"display:none;\">\n",
              "        \n",
              "  <svg xmlns=\"http://www.w3.org/2000/svg\" height=\"24px\"viewBox=\"0 0 24 24\"\n",
              "       width=\"24px\">\n",
              "    <path d=\"M0 0h24v24H0V0z\" fill=\"none\"/>\n",
              "    <path d=\"M18.56 5.44l.94 2.06.94-2.06 2.06-.94-2.06-.94-.94-2.06-.94 2.06-2.06.94zm-11 1L8.5 8.5l.94-2.06 2.06-.94-2.06-.94L8.5 2.5l-.94 2.06-2.06.94zm10 10l.94 2.06.94-2.06 2.06-.94-2.06-.94-.94-2.06-.94 2.06-2.06.94z\"/><path d=\"M17.41 7.96l-1.37-1.37c-.4-.4-.92-.59-1.43-.59-.52 0-1.04.2-1.43.59L10.3 9.45l-7.72 7.72c-.78.78-.78 2.05 0 2.83L4 21.41c.39.39.9.59 1.41.59.51 0 1.02-.2 1.41-.59l7.78-7.78 2.81-2.81c.8-.78.8-2.07 0-2.86zM5.41 20L4 18.59l7.72-7.72 1.47 1.35L5.41 20z\"/>\n",
              "  </svg>\n",
              "      </button>\n",
              "      \n",
              "  <style>\n",
              "    .colab-df-container {\n",
              "      display:flex;\n",
              "      flex-wrap:wrap;\n",
              "      gap: 12px;\n",
              "    }\n",
              "\n",
              "    .colab-df-convert {\n",
              "      background-color: #E8F0FE;\n",
              "      border: none;\n",
              "      border-radius: 50%;\n",
              "      cursor: pointer;\n",
              "      display: none;\n",
              "      fill: #1967D2;\n",
              "      height: 32px;\n",
              "      padding: 0 0 0 0;\n",
              "      width: 32px;\n",
              "    }\n",
              "\n",
              "    .colab-df-convert:hover {\n",
              "      background-color: #E2EBFA;\n",
              "      box-shadow: 0px 1px 2px rgba(60, 64, 67, 0.3), 0px 1px 3px 1px rgba(60, 64, 67, 0.15);\n",
              "      fill: #174EA6;\n",
              "    }\n",
              "\n",
              "    [theme=dark] .colab-df-convert {\n",
              "      background-color: #3B4455;\n",
              "      fill: #D2E3FC;\n",
              "    }\n",
              "\n",
              "    [theme=dark] .colab-df-convert:hover {\n",
              "      background-color: #434B5C;\n",
              "      box-shadow: 0px 1px 3px 1px rgba(0, 0, 0, 0.15);\n",
              "      filter: drop-shadow(0px 1px 2px rgba(0, 0, 0, 0.3));\n",
              "      fill: #FFFFFF;\n",
              "    }\n",
              "  </style>\n",
              "\n",
              "      <script>\n",
              "        const buttonEl =\n",
              "          document.querySelector('#df-5e44597a-7091-4c25-8a77-15d03e419be1 button.colab-df-convert');\n",
              "        buttonEl.style.display =\n",
              "          google.colab.kernel.accessAllowed ? 'block' : 'none';\n",
              "\n",
              "        async function convertToInteractive(key) {\n",
              "          const element = document.querySelector('#df-5e44597a-7091-4c25-8a77-15d03e419be1');\n",
              "          const dataTable =\n",
              "            await google.colab.kernel.invokeFunction('convertToInteractive',\n",
              "                                                     [key], {});\n",
              "          if (!dataTable) return;\n",
              "\n",
              "          const docLinkHtml = 'Like what you see? Visit the ' +\n",
              "            '<a target=\"_blank\" href=https://colab.research.google.com/notebooks/data_table.ipynb>data table notebook</a>'\n",
              "            + ' to learn more about interactive tables.';\n",
              "          element.innerHTML = '';\n",
              "          dataTable['output_type'] = 'display_data';\n",
              "          await google.colab.output.renderOutput(dataTable, element);\n",
              "          const docLink = document.createElement('div');\n",
              "          docLink.innerHTML = docLinkHtml;\n",
              "          element.appendChild(docLink);\n",
              "        }\n",
              "      </script>\n",
              "    </div>\n",
              "  </div>\n",
              "  "
            ]
          },
          "metadata": {},
          "execution_count": 62
        }
      ]
    },
    {
      "cell_type": "code",
      "metadata": {
        "colab": {
          "base_uri": "https://localhost:8080/"
        },
        "id": "ZCQcbAKutN4b",
        "outputId": "8773c54c-89b1-43eb-a1e1-9c5a11b4409e"
      },
      "source": [
        "final.shape"
      ],
      "execution_count": null,
      "outputs": [
        {
          "output_type": "execute_result",
          "data": {
            "text/plain": [
              "(19917, 45)"
            ]
          },
          "metadata": {},
          "execution_count": 63
        }
      ]
    },
    {
      "cell_type": "code",
      "metadata": {
        "id": "wIDkw0VDire-"
      },
      "source": [
        "final.to_csv('wikihow.csv', index=False)"
      ],
      "execution_count": null,
      "outputs": []
    }
  ]
}